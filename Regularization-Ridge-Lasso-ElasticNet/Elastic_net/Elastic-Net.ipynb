{
  "nbformat": 4,
  "nbformat_minor": 0,
  "metadata": {
    "kernelspec": {
      "display_name": "Python 3",
      "language": "python",
      "name": "python3"
    },
    "language_info": {
      "codemirror_mode": {
        "name": "ipython",
        "version": 3
      },
      "file_extension": ".py",
      "mimetype": "text/x-python",
      "name": "python",
      "nbconvert_exporter": "python",
      "pygments_lexer": "ipython3",
      "version": "3.7.0"
    },
    "colab": {
      "name": "Elastic-Net.ipynb",
      "version": "0.3.2",
      "provenance": []
    }
  },
  "cells": [
    {
      "cell_type": "code",
      "metadata": {
        "id": "xiwoaJrDy4XD",
        "colab_type": "code",
        "colab": {}
      },
      "source": [
        "import math \n",
        "import matplotlib.pyplot as plt \n",
        "import pandas as pd\n",
        "import numpy as np\n",
        "# difference of lasso and ridge regression is that some of the coefficients can be zero i.e. some of the features are \n",
        "# completely neglected\n",
        "from sklearn.linear_model import LinearRegression\n",
        "from sklearn.datasets import load_breast_cancer\n",
        "from sklearn.model_selection import train_test_split\n",
        "from sklearn.linear_model import ElasticNet\n",
        "import warnings\n",
        "warnings.simplefilter('ignore')"
      ],
      "execution_count": 0,
      "outputs": []
    },
    {
      "cell_type": "code",
      "metadata": {
        "id": "w8NlW6fpy4XH",
        "colab_type": "code",
        "colab": {
          "base_uri": "https://localhost:8080/",
          "height": 141
        },
        "outputId": "085bdf89-5588-42c3-8e8e-4b5f395feb86"
      },
      "source": [
        "cancer = load_breast_cancer()\n",
        "print(cancer.keys())\n",
        "cancer_df = pd.DataFrame(cancer.data, columns=cancer.feature_names)\n",
        "print(cancer_df.head(3))\n",
        "X = cancer.data\n",
        "Y = cancer.target"
      ],
      "execution_count": 12,
      "outputs": [
        {
          "output_type": "stream",
          "text": [
            "dict_keys(['data', 'target', 'target_names', 'DESCR', 'feature_names', 'filename'])\n",
            "   mean radius  mean texture  ...  worst symmetry  worst fractal dimension\n",
            "0        17.99         10.38  ...          0.4601                  0.11890\n",
            "1        20.57         17.77  ...          0.2750                  0.08902\n",
            "2        19.69         21.25  ...          0.3613                  0.08758\n",
            "\n",
            "[3 rows x 30 columns]\n"
          ],
          "name": "stdout"
        }
      ]
    },
    {
      "cell_type": "code",
      "metadata": {
        "id": "wYfX0DNvy4XK",
        "colab_type": "code",
        "colab": {}
      },
      "source": [
        "X_train,X_test,y_train,y_test=train_test_split(X,Y, test_size=0.3, random_state=31)"
      ],
      "execution_count": 0,
      "outputs": []
    },
    {
      "cell_type": "code",
      "metadata": {
        "id": "7XUf3sQny4XL",
        "colab_type": "code",
        "colab": {
          "base_uri": "https://localhost:8080/",
          "height": 70
        },
        "outputId": "5222be9f-4c8b-4265-aae1-5c1fc0351673"
      },
      "source": [
        "elasticNet = ElasticNet()\n",
        "elasticNet.fit(X_train,y_train)\n",
        "train_score=elasticNet.score(X_train,y_train)\n",
        "test_score=elasticNet.score(X_test,y_test)\n",
        "coeff_used = np.sum(elasticNet.coef_!=0)\n",
        "print(\"training score:\", train_score )\n",
        "print(\"test score: \", test_score)\n",
        "print(\"number of features used: \", coeff_used)"
      ],
      "execution_count": 14,
      "outputs": [
        {
          "output_type": "stream",
          "text": [
            "training score: 0.6274862888956645\n",
            "test score:  0.6330011158645811\n",
            "number of features used:  5\n"
          ],
          "name": "stdout"
        }
      ]
    },
    {
      "cell_type": "code",
      "metadata": {
        "id": "nS4cyRKwy4XN",
        "colab_type": "code",
        "colab": {
          "base_uri": "https://localhost:8080/",
          "height": 87
        },
        "outputId": "6030b588-07ae-4f51-96a7-a9b07445288c"
      },
      "source": [
        "elasticNet_a01 = ElasticNet(alpha=0.01)\n",
        "elasticNet_a01.fit(X_train,y_train)\n",
        "train_score_a01=elasticNet_a01.score(X_train,y_train)\n",
        "test_score_a01=elasticNet_a01.score(X_test,y_test)\n",
        "coeff_used_a01 = np.sum(elasticNet_a01.coef_!=0)\n",
        "print(\"training score for alpha=0.01:\", train_score_a01 )\n",
        "print(\"test score for alpha =0.01: \", test_score_a01)\n",
        "print(\"number of features used: for alpha =0.01:\", coeff_used_a01)\n",
        "\n",
        "\"\"\"\n",
        "alpha=0.1\n",
        "training score for alpha=0.1: 0.6776346036517484\n",
        "test score for alpha =0.1:  0.6542523776403809\n",
        "number of features used: for alpha =0.1: 6\n",
        "\"\"\"\n",
        "\"\"\"\n",
        "training score for alpha=0.01: 0.7254557013894096\n",
        "test score for alpha =0.01:  0.6803185095745135\n",
        "number of features used: for alpha =0.01: 10\n",
        "\"\"\""
      ],
      "execution_count": 15,
      "outputs": [
        {
          "output_type": "stream",
          "text": [
            "training score for alpha=0.01: 0.7254557013894096\n",
            "test score for alpha =0.01:  0.6803185095745135\n",
            "number of features used: for alpha =0.01: 10\n"
          ],
          "name": "stdout"
        },
        {
          "output_type": "execute_result",
          "data": {
            "text/plain": [
              "'\\ntraining score for alpha=0.01: 0.7254557013894096\\ntest score for alpha =0.01:  0.6803185095745135\\nnumber of features used: for alpha =0.01: 10\\n'"
            ]
          },
          "metadata": {
            "tags": []
          },
          "execution_count": 15
        }
      ]
    },
    {
      "cell_type": "code",
      "metadata": {
        "id": "Q6JGRCXNy4XP",
        "colab_type": "code",
        "colab": {
          "base_uri": "https://localhost:8080/",
          "height": 123
        },
        "outputId": "35dd9afb-8c62-4eea-eaac-91c51627692f"
      },
      "source": [
        "from sklearn.linear_model import ElasticNetCV\n",
        "regrElasticNet = ElasticNetCV(cv=10, random_state=0)\n",
        "regrElasticNet.fit(X_train,y_train)\n",
        "#ElasticNetCV(alphas=None, copy_X=True, cv=5, eps=0.001, fit_intercept=True,l1_ratio=0.5, max_iter=1000, n_alphas=100, n_jobs=None,normalize=False, positive=False, precompute='auto', random_state=0,selection='cyclic', tol=0.0001, verbose=0)\n",
        "print(\"Alpha %.2f\"%regrElasticNet.alpha_) \n",
        "print(regrElasticNet.intercept_) \n",
        "train_score_a01=regrElasticNet.score(X_train,y_train)\n",
        "test_score_a01=regrElasticNet.score(X_test,y_test)\n",
        "coeff_used_a01 = np.sum(regrElasticNet.coef_!=0)\n",
        "print(\"training score for alpha= %.2f\"%regrElasticNet.alpha_, train_score_a01 )\n",
        "print(\"test score for alpha = %.2f\"%regrElasticNet.alpha_,test_score_a01)\n",
        "print(\"number of features used: for alpha = %.2f\"%regrElasticNet.alpha_, coeff_used_a01)\n",
        "regrElasticNet.get_params\n",
        "\"\"\"0.7194180187426976\n",
        "{'alpha': 0.01, 'l1_ratio': 0.0}\n",
        "train_score =  0.7460510050453089\n",
        "test_score =  0.693724329299283\"\"\""
      ],
      "execution_count": 16,
      "outputs": [
        {
          "output_type": "stream",
          "text": [
            "Alpha 0.41\n",
            "2.3402176861994604\n",
            "training score for alpha= 0.41 0.667637333144655\n",
            "test score for alpha = 0.41 0.6533925634841322\n",
            "number of features used: for alpha = 0.41 4\n"
          ],
          "name": "stdout"
        },
        {
          "output_type": "execute_result",
          "data": {
            "text/plain": [
              "\"0.7194180187426976\\n{'alpha': 0.01, 'l1_ratio': 0.0}\\ntrain_score =  0.7460510050453089\\ntest_score =  0.693724329299283\""
            ]
          },
          "metadata": {
            "tags": []
          },
          "execution_count": 16
        }
      ]
    },
    {
      "cell_type": "code",
      "metadata": {
        "id": "mdpPe2ivy4XR",
        "colab_type": "code",
        "colab": {
          "base_uri": "https://localhost:8080/",
          "height": 141
        },
        "outputId": "633ef11b-e90d-4555-d27f-d63f51f08195"
      },
      "source": [
        "from sklearn.model_selection import GridSearchCV\n",
        "alpha_range = [0,0.01,0.1,1,10,100]\n",
        "print(alpha_range)\n",
        "l1_ratio_range = np.arange(0,1,0.1)\n",
        "print(\"l1_ratio\",l1_ratio_range)\n",
        "param_grid = dict(alpha=alpha_range,l1_ratio = l1_ratio_range)\n",
        "print(param_grid)\n",
        "grid = GridSearchCV(ElasticNet(), param_grid, cv=5, return_train_score=False)\n",
        "grid.fit(X_train,y_train)\n",
        "# examine the best model\n",
        "print(grid.best_score_)\n",
        "print(grid.best_params_)\n",
        "pd.DataFrame(grid.cv_results_)[['mean_test_score', 'std_test_score', 'params']]\n",
        "train_score=grid.score(X_train,y_train)\n",
        "print(\"train_score = \", train_score)\n",
        "test_score=grid.score(X_test,y_test)\n",
        "print(\"test_score = \", test_score)"
      ],
      "execution_count": 17,
      "outputs": [
        {
          "output_type": "stream",
          "text": [
            "[0, 0.01, 0.1, 1, 10, 100]\n",
            "l1_ratio [0.  0.1 0.2 0.3 0.4 0.5 0.6 0.7 0.8 0.9]\n",
            "{'alpha': [0, 0.01, 0.1, 1, 10, 100], 'l1_ratio': array([0. , 0.1, 0.2, 0.3, 0.4, 0.5, 0.6, 0.7, 0.8, 0.9])}\n",
            "0.7194180187426973\n",
            "{'alpha': 0.01, 'l1_ratio': 0.0}\n",
            "train_score =  0.7460510050453089\n",
            "test_score =  0.693724329299283\n"
          ],
          "name": "stdout"
        }
      ]
    },
    {
      "cell_type": "code",
      "metadata": {
        "id": "4RcWVc7Oy4XT",
        "colab_type": "code",
        "colab": {
          "base_uri": "https://localhost:8080/",
          "height": 123
        },
        "outputId": "8a41c58f-d772-4dc4-b70b-df2342748edd"
      },
      "source": [
        "from sklearn.model_selection import RandomizedSearchCV\n",
        "alpha_range = [0,0.01,0.1,1,10,100]\n",
        "l1_ratio_range = np.arange(0,1,0.1)\n",
        "param_grid = dict(alpha=alpha_range,l1_ratio = l1_ratio_range)\n",
        "rand = RandomizedSearchCV(ElasticNet(), param_grid, cv=10, return_train_score=False,n_iter=6)\n",
        "rand.fit(X_train,y_train)\n",
        "pd.DataFrame(rand.cv_results_)[['mean_test_score', 'std_test_score', 'params']]\n",
        "print(\"#########ElasticNet############\")\n",
        "print(rand.best_score_)\n",
        "print(rand.best_params_)\n",
        "train_score=rand.score(X_train,y_train)\n",
        "print(\"train_score = \", train_score)\n",
        "test_score=rand.score(X_test,y_test)\n",
        "print(\"test_score = \", test_score)\n",
        "\"\"\"\n",
        "#########ElasticNet############\n",
        "0.7116765584718803\n",
        "{'l1_ratio': 0.0, 'alpha': 0.01}\n",
        "train_score =  0.7460510050453089\n",
        "test_score =  0.693724329299283\n",
        "\"\"\""
      ],
      "execution_count": 18,
      "outputs": [
        {
          "output_type": "stream",
          "text": [
            "#########ElasticNet############\n",
            "0.7245413388753128\n",
            "{'l1_ratio': 0.4, 'alpha': 0}\n",
            "train_score =  0.7837570558332014\n",
            "test_score =  0.7313489750964581\n"
          ],
          "name": "stdout"
        },
        {
          "output_type": "execute_result",
          "data": {
            "text/plain": [
              "\"\\n#########ElasticNet############\\n0.7116765584718803\\n{'l1_ratio': 0.0, 'alpha': 0.01}\\ntrain_score =  0.7460510050453089\\ntest_score =  0.693724329299283\\n\""
            ]
          },
          "metadata": {
            "tags": []
          },
          "execution_count": 18
        }
      ]
    },
    {
      "cell_type": "code",
      "metadata": {
        "collapsed": true,
        "id": "V6yPt91ly4XV",
        "colab_type": "code",
        "colab": {
          "base_uri": "https://localhost:8080/",
          "height": 123
        },
        "outputId": "6a718e53-0ae3-4880-f41b-9296cbaaed7a"
      },
      "source": [
        "from sklearn.linear_model import Lasso\n",
        "alpha_range = [0,0.01,0.1,1,10,100]\n",
        "#l1_ratio_range = np.arange(0,1,0.1)\n",
        "param_grid = dict(alpha=alpha_range)\n",
        "rand = RandomizedSearchCV(Lasso(), param_grid, cv=10, return_train_score=False,n_iter=6)\n",
        "rand.fit(X_train,y_train)\n",
        "pd.DataFrame(rand.cv_results_)[['mean_test_score', 'std_test_score', 'params']]\n",
        "print(\"#########Lasso############\")\n",
        "print(rand.best_score_)\n",
        "print(rand.best_params_)\n",
        "train_score=rand.score(X_train,y_train)\n",
        "print(\"train_score = \", train_score)\n",
        "test_score=rand.score(X_test,y_test)\n",
        "print(\"test_score = \", test_score)\n",
        "\"\"\"\n",
        "#########Lasso############\n",
        "0.7245413388753128\n",
        "{'alpha': 0}\n",
        "train_score =  0.7837570558332013\n",
        "test_score =  0.7313489750964584\n",
        "\"\"\""
      ],
      "execution_count": 19,
      "outputs": [
        {
          "output_type": "stream",
          "text": [
            "#########Lasso############\n",
            "0.7245413388753128\n",
            "{'alpha': 0}\n",
            "train_score =  0.7837570558332014\n",
            "test_score =  0.7313489750964581\n"
          ],
          "name": "stdout"
        },
        {
          "output_type": "execute_result",
          "data": {
            "text/plain": [
              "\"\\n#########Lasso############\\n0.7245413388753128\\n{'alpha': 0}\\ntrain_score =  0.7837570558332013\\ntest_score =  0.7313489750964584\\n\""
            ]
          },
          "metadata": {
            "tags": []
          },
          "execution_count": 19
        }
      ]
    },
    {
      "cell_type": "code",
      "metadata": {
        "collapsed": true,
        "id": "bqYCnixLy4XX",
        "colab_type": "code",
        "colab": {
          "base_uri": "https://localhost:8080/",
          "height": 123
        },
        "outputId": "96c66b29-3c6f-4c73-aab6-3b0bda918f96"
      },
      "source": [
        "from sklearn.linear_model import Ridge\n",
        "alpha_range = [0,0.01,0.1,1,10,100]\n",
        "#l1_ratio_range = np.arange(0,1,0.1)\n",
        "param_grid = dict(alpha=alpha_range)\n",
        "rand = RandomizedSearchCV(Ridge(), param_grid, cv=10, return_train_score=False,n_iter=6)\n",
        "rand.fit(X_train,y_train)\n",
        "pd.DataFrame(rand.cv_results_)[['mean_test_score', 'std_test_score', 'params']]\n",
        "print(\"#########Ridge############\")\n",
        "print(rand.best_score_)\n",
        "print(rand.best_params_)\n",
        "train_score=rand.score(X_train,y_train)\n",
        "print(\"train_score = \", train_score)\n",
        "test_score=rand.score(X_test,y_test)\n",
        "print(\"test_score = \", test_score)\n",
        "\"\"\"\n",
        "#########Ridge############\n",
        "0.7257222115149146\n",
        "{'alpha': 0.01}\n",
        "train_score =  0.7793449874229254\n",
        "test_score =  0.7346914231500055\n",
        "\"\"\""
      ],
      "execution_count": 20,
      "outputs": [
        {
          "output_type": "stream",
          "text": [
            "#########Ridge############\n",
            "0.7257222115148986\n",
            "{'alpha': 0.01}\n",
            "train_score =  0.7793449874229257\n",
            "test_score =  0.7346914231500054\n"
          ],
          "name": "stdout"
        },
        {
          "output_type": "execute_result",
          "data": {
            "text/plain": [
              "\"\\n#########Ridge############\\n0.7257222115149146\\n{'alpha': 0.01}\\ntrain_score =  0.7793449874229254\\ntest_score =  0.7346914231500055\\n\""
            ]
          },
          "metadata": {
            "tags": []
          },
          "execution_count": 20
        }
      ]
    }
  ]
}