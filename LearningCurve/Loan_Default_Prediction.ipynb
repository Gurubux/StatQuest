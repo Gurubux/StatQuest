{
 "cells": [
  {
   "cell_type": "code",
   "execution_count": 2,
   "metadata": {},
   "outputs": [],
   "source": [
    "import os\n",
    "import pandas as pd\n",
    "import numpy as np\n",
    "from sklearn import preprocessing,metrics \n",
    "from IPython.core.display import HTML\n",
    "pd.set_option(\"display.max_columns\",75)\n",
    "import warnings\n",
    "warnings.filterwarnings('ignore')\n",
    "from sklearn.model_selection import train_test_split\n",
    "from sklearn.ensemble import RandomForestClassifier\n",
    "from sklearn.neighbors import KNeighborsClassifier\n",
    "from sklearn.metrics import accuracy_score\n",
    "import matplotlib.pyplot as plt\n",
    "import seaborn as sns\n",
    "%matplotlib inline\n",
    "from sklearn import linear_model,svm\n",
    "from sklearn.metrics import average_precision_score\n",
    "from sklearn.metrics import precision_recall_curve"
   ]
  },
  {
   "cell_type": "code",
   "execution_count": 3,
   "metadata": {},
   "outputs": [],
   "source": [
    "df2012_13 = pd.read_csv('C:/Users/Guru/DATA-LIT/2StatisticsAndProbability/2.1CreditScoring/LoanStats_2012_to_2013.csv',low_memory=False,skiprows=1)\n",
    "df2014 = pd.read_csv('C:/Users/Guru/DATA-LIT/2StatisticsAndProbability/2.1CreditScoring/LoanStats_2014.csv',low_memory=False,skiprows=1)"
   ]
  },
  {
   "cell_type": "code",
   "execution_count": 4,
   "metadata": {},
   "outputs": [],
   "source": [
    "dataset = pd.concat([df2012_13, df2014]) #merging 2012 to 2014 datasets\n",
    "dataset = dataset.iloc[:,2:111]          #removing empty columns\n",
    "empty_cols = [i for i in range(45,72)]   #more empty columns\n",
    "dataset = dataset.drop(dataset.columns[empty_cols],axis=1)\n",
    "data_with_loanstatus_sliced = dataset[(dataset['loan_status']==\"Fully Paid\") | (dataset['loan_status']==\"Charged Off\")]\n",
    "di = {\"Fully Paid\":0, \"Charged Off\":1}   #converting target variable to boolean\n",
    "Dataset_withBoolTarget= data_with_loanstatus_sliced.replace({\"loan_status\": di})"
   ]
  },
  {
   "cell_type": "code",
   "execution_count": 5,
   "metadata": {},
   "outputs": [
    {
     "name": "stdout",
     "output_type": "stream",
     "text": [
      "Current shape of dataset : (411273, 82)\n"
     ]
    },
    {
     "data": {
      "text/html": [
       "<div>\n",
       "<style scoped>\n",
       "    .dataframe tbody tr th:only-of-type {\n",
       "        vertical-align: middle;\n",
       "    }\n",
       "\n",
       "    .dataframe tbody tr th {\n",
       "        vertical-align: top;\n",
       "    }\n",
       "\n",
       "    .dataframe thead th {\n",
       "        text-align: right;\n",
       "    }\n",
       "</style>\n",
       "<table border=\"1\" class=\"dataframe\">\n",
       "  <thead>\n",
       "    <tr style=\"text-align: right;\">\n",
       "      <th></th>\n",
       "      <th>loan_amnt</th>\n",
       "      <th>funded_amnt</th>\n",
       "      <th>funded_amnt_inv</th>\n",
       "      <th>term</th>\n",
       "      <th>int_rate</th>\n",
       "      <th>installment</th>\n",
       "      <th>grade</th>\n",
       "      <th>sub_grade</th>\n",
       "      <th>emp_title</th>\n",
       "      <th>emp_length</th>\n",
       "      <th>home_ownership</th>\n",
       "      <th>annual_inc</th>\n",
       "      <th>verification_status</th>\n",
       "      <th>issue_d</th>\n",
       "      <th>loan_status</th>\n",
       "      <th>pymnt_plan</th>\n",
       "      <th>url</th>\n",
       "      <th>desc</th>\n",
       "      <th>purpose</th>\n",
       "      <th>title</th>\n",
       "      <th>zip_code</th>\n",
       "      <th>addr_state</th>\n",
       "      <th>dti</th>\n",
       "      <th>delinq_2yrs</th>\n",
       "      <th>earliest_cr_line</th>\n",
       "      <th>inq_last_6mths</th>\n",
       "      <th>mths_since_last_delinq</th>\n",
       "      <th>mths_since_last_record</th>\n",
       "      <th>open_acc</th>\n",
       "      <th>pub_rec</th>\n",
       "      <th>revol_bal</th>\n",
       "      <th>revol_util</th>\n",
       "      <th>total_acc</th>\n",
       "      <th>initial_list_status</th>\n",
       "      <th>out_prncp</th>\n",
       "      <th>out_prncp_inv</th>\n",
       "      <th>total_pymnt</th>\n",
       "      <th>...</th>\n",
       "      <th>acc_open_past_24mths</th>\n",
       "      <th>avg_cur_bal</th>\n",
       "      <th>bc_open_to_buy</th>\n",
       "      <th>bc_util</th>\n",
       "      <th>chargeoff_within_12_mths</th>\n",
       "      <th>delinq_amnt</th>\n",
       "      <th>mo_sin_old_il_acct</th>\n",
       "      <th>mo_sin_old_rev_tl_op</th>\n",
       "      <th>mo_sin_rcnt_rev_tl_op</th>\n",
       "      <th>mo_sin_rcnt_tl</th>\n",
       "      <th>mort_acc</th>\n",
       "      <th>mths_since_recent_bc</th>\n",
       "      <th>mths_since_recent_bc_dlq</th>\n",
       "      <th>mths_since_recent_inq</th>\n",
       "      <th>mths_since_recent_revol_delinq</th>\n",
       "      <th>num_accts_ever_120_pd</th>\n",
       "      <th>num_actv_bc_tl</th>\n",
       "      <th>num_actv_rev_tl</th>\n",
       "      <th>num_bc_sats</th>\n",
       "      <th>num_bc_tl</th>\n",
       "      <th>num_il_tl</th>\n",
       "      <th>num_op_rev_tl</th>\n",
       "      <th>num_rev_accts</th>\n",
       "      <th>num_rev_tl_bal_gt_0</th>\n",
       "      <th>num_sats</th>\n",
       "      <th>num_tl_120dpd_2m</th>\n",
       "      <th>num_tl_30dpd</th>\n",
       "      <th>num_tl_90g_dpd_24m</th>\n",
       "      <th>num_tl_op_past_12m</th>\n",
       "      <th>pct_tl_nvr_dlq</th>\n",
       "      <th>percent_bc_gt_75</th>\n",
       "      <th>pub_rec_bankruptcies</th>\n",
       "      <th>tax_liens</th>\n",
       "      <th>tot_hi_cred_lim</th>\n",
       "      <th>total_bal_ex_mort</th>\n",
       "      <th>total_bc_limit</th>\n",
       "      <th>total_il_high_credit_limit</th>\n",
       "    </tr>\n",
       "  </thead>\n",
       "  <tbody>\n",
       "    <tr>\n",
       "      <th>0</th>\n",
       "      <td>12000.0</td>\n",
       "      <td>12000.0</td>\n",
       "      <td>12000.0</td>\n",
       "      <td>36 months</td>\n",
       "      <td>7.62%</td>\n",
       "      <td>373.94</td>\n",
       "      <td>A</td>\n",
       "      <td>A3</td>\n",
       "      <td>Systems Engineer</td>\n",
       "      <td>3 years</td>\n",
       "      <td>MORTGAGE</td>\n",
       "      <td>96500.0</td>\n",
       "      <td>Not Verified</td>\n",
       "      <td>Dec-2013</td>\n",
       "      <td>0</td>\n",
       "      <td>n</td>\n",
       "      <td>NaN</td>\n",
       "      <td>Borrower added on 12/31/13 &gt; Bought a new ho...</td>\n",
       "      <td>debt_consolidation</td>\n",
       "      <td>Debt Consolidation and Credit Transfer</td>\n",
       "      <td>782xx</td>\n",
       "      <td>TX</td>\n",
       "      <td>12.61</td>\n",
       "      <td>0.0</td>\n",
       "      <td>Sep-2003</td>\n",
       "      <td>0.0</td>\n",
       "      <td>NaN</td>\n",
       "      <td>NaN</td>\n",
       "      <td>17.0</td>\n",
       "      <td>0.0</td>\n",
       "      <td>13248.0</td>\n",
       "      <td>55.7%</td>\n",
       "      <td>30.0</td>\n",
       "      <td>f</td>\n",
       "      <td>0.0</td>\n",
       "      <td>0.0</td>\n",
       "      <td>13397.539998</td>\n",
       "      <td>...</td>\n",
       "      <td>4.0</td>\n",
       "      <td>11783.0</td>\n",
       "      <td>2441.0</td>\n",
       "      <td>83.5</td>\n",
       "      <td>0.0</td>\n",
       "      <td>0.0</td>\n",
       "      <td>123.0</td>\n",
       "      <td>118.0</td>\n",
       "      <td>10.0</td>\n",
       "      <td>9.0</td>\n",
       "      <td>1.0</td>\n",
       "      <td>10.0</td>\n",
       "      <td>NaN</td>\n",
       "      <td>10.0</td>\n",
       "      <td>NaN</td>\n",
       "      <td>0.0</td>\n",
       "      <td>4.0</td>\n",
       "      <td>5.0</td>\n",
       "      <td>4.0</td>\n",
       "      <td>10.0</td>\n",
       "      <td>15.0</td>\n",
       "      <td>8.0</td>\n",
       "      <td>14.0</td>\n",
       "      <td>5.0</td>\n",
       "      <td>17.0</td>\n",
       "      <td>0.0</td>\n",
       "      <td>0.0</td>\n",
       "      <td>0.0</td>\n",
       "      <td>3.0</td>\n",
       "      <td>100.0</td>\n",
       "      <td>100.0</td>\n",
       "      <td>0.0</td>\n",
       "      <td>0.0</td>\n",
       "      <td>233004.0</td>\n",
       "      <td>46738.0</td>\n",
       "      <td>14800.0</td>\n",
       "      <td>53404.0</td>\n",
       "    </tr>\n",
       "    <tr>\n",
       "      <th>1</th>\n",
       "      <td>27050.0</td>\n",
       "      <td>27050.0</td>\n",
       "      <td>27050.0</td>\n",
       "      <td>36 months</td>\n",
       "      <td>10.99%</td>\n",
       "      <td>885.46</td>\n",
       "      <td>B</td>\n",
       "      <td>B2</td>\n",
       "      <td>Team Leadern Customer Ops &amp; Systems</td>\n",
       "      <td>10+ years</td>\n",
       "      <td>OWN</td>\n",
       "      <td>55000.0</td>\n",
       "      <td>Verified</td>\n",
       "      <td>Dec-2013</td>\n",
       "      <td>0</td>\n",
       "      <td>n</td>\n",
       "      <td>NaN</td>\n",
       "      <td>Borrower added on 12/31/13 &gt; Combining high ...</td>\n",
       "      <td>debt_consolidation</td>\n",
       "      <td>Debt Consolidation</td>\n",
       "      <td>481xx</td>\n",
       "      <td>MI</td>\n",
       "      <td>22.87</td>\n",
       "      <td>0.0</td>\n",
       "      <td>Oct-1986</td>\n",
       "      <td>0.0</td>\n",
       "      <td>NaN</td>\n",
       "      <td>NaN</td>\n",
       "      <td>14.0</td>\n",
       "      <td>0.0</td>\n",
       "      <td>36638.0</td>\n",
       "      <td>61.2%</td>\n",
       "      <td>27.0</td>\n",
       "      <td>w</td>\n",
       "      <td>0.0</td>\n",
       "      <td>0.0</td>\n",
       "      <td>31752.530000</td>\n",
       "      <td>...</td>\n",
       "      <td>3.0</td>\n",
       "      <td>9570.0</td>\n",
       "      <td>16473.0</td>\n",
       "      <td>53.9</td>\n",
       "      <td>0.0</td>\n",
       "      <td>0.0</td>\n",
       "      <td>117.0</td>\n",
       "      <td>326.0</td>\n",
       "      <td>16.0</td>\n",
       "      <td>6.0</td>\n",
       "      <td>4.0</td>\n",
       "      <td>16.0</td>\n",
       "      <td>NaN</td>\n",
       "      <td>8.0</td>\n",
       "      <td>NaN</td>\n",
       "      <td>0.0</td>\n",
       "      <td>2.0</td>\n",
       "      <td>4.0</td>\n",
       "      <td>4.0</td>\n",
       "      <td>8.0</td>\n",
       "      <td>8.0</td>\n",
       "      <td>10.0</td>\n",
       "      <td>15.0</td>\n",
       "      <td>4.0</td>\n",
       "      <td>14.0</td>\n",
       "      <td>0.0</td>\n",
       "      <td>0.0</td>\n",
       "      <td>0.0</td>\n",
       "      <td>1.0</td>\n",
       "      <td>100.0</td>\n",
       "      <td>25.0</td>\n",
       "      <td>0.0</td>\n",
       "      <td>0.0</td>\n",
       "      <td>138554.0</td>\n",
       "      <td>70186.0</td>\n",
       "      <td>35700.0</td>\n",
       "      <td>33054.0</td>\n",
       "    </tr>\n",
       "    <tr>\n",
       "      <th>2</th>\n",
       "      <td>12000.0</td>\n",
       "      <td>12000.0</td>\n",
       "      <td>12000.0</td>\n",
       "      <td>36 months</td>\n",
       "      <td>11.99%</td>\n",
       "      <td>398.52</td>\n",
       "      <td>B</td>\n",
       "      <td>B3</td>\n",
       "      <td>LTC</td>\n",
       "      <td>10+ years</td>\n",
       "      <td>MORTGAGE</td>\n",
       "      <td>130000.0</td>\n",
       "      <td>Source Verified</td>\n",
       "      <td>Dec-2013</td>\n",
       "      <td>0</td>\n",
       "      <td>n</td>\n",
       "      <td>NaN</td>\n",
       "      <td>NaN</td>\n",
       "      <td>debt_consolidation</td>\n",
       "      <td>Debt consolidation</td>\n",
       "      <td>809xx</td>\n",
       "      <td>CO</td>\n",
       "      <td>13.03</td>\n",
       "      <td>0.0</td>\n",
       "      <td>Nov-1997</td>\n",
       "      <td>1.0</td>\n",
       "      <td>NaN</td>\n",
       "      <td>NaN</td>\n",
       "      <td>9.0</td>\n",
       "      <td>0.0</td>\n",
       "      <td>10805.0</td>\n",
       "      <td>67%</td>\n",
       "      <td>19.0</td>\n",
       "      <td>f</td>\n",
       "      <td>0.0</td>\n",
       "      <td>0.0</td>\n",
       "      <td>14346.479050</td>\n",
       "      <td>...</td>\n",
       "      <td>4.0</td>\n",
       "      <td>36362.0</td>\n",
       "      <td>3567.0</td>\n",
       "      <td>93.0</td>\n",
       "      <td>0.0</td>\n",
       "      <td>0.0</td>\n",
       "      <td>173.0</td>\n",
       "      <td>193.0</td>\n",
       "      <td>4.0</td>\n",
       "      <td>4.0</td>\n",
       "      <td>3.0</td>\n",
       "      <td>85.0</td>\n",
       "      <td>NaN</td>\n",
       "      <td>4.0</td>\n",
       "      <td>NaN</td>\n",
       "      <td>0.0</td>\n",
       "      <td>3.0</td>\n",
       "      <td>5.0</td>\n",
       "      <td>4.0</td>\n",
       "      <td>4.0</td>\n",
       "      <td>8.0</td>\n",
       "      <td>5.0</td>\n",
       "      <td>8.0</td>\n",
       "      <td>5.0</td>\n",
       "      <td>9.0</td>\n",
       "      <td>NaN</td>\n",
       "      <td>0.0</td>\n",
       "      <td>0.0</td>\n",
       "      <td>3.0</td>\n",
       "      <td>100.0</td>\n",
       "      <td>1.0</td>\n",
       "      <td>0.0</td>\n",
       "      <td>0.0</td>\n",
       "      <td>365874.0</td>\n",
       "      <td>44327.0</td>\n",
       "      <td>10700.0</td>\n",
       "      <td>57674.0</td>\n",
       "    </tr>\n",
       "  </tbody>\n",
       "</table>\n",
       "<p>3 rows × 82 columns</p>\n",
       "</div>"
      ],
      "text/plain": [
       "   loan_amnt  funded_amnt  funded_amnt_inv        term int_rate  installment  \\\n",
       "0    12000.0      12000.0          12000.0   36 months    7.62%       373.94   \n",
       "1    27050.0      27050.0          27050.0   36 months   10.99%       885.46   \n",
       "2    12000.0      12000.0          12000.0   36 months   11.99%       398.52   \n",
       "\n",
       "  grade sub_grade                            emp_title emp_length  \\\n",
       "0     A        A3                     Systems Engineer    3 years   \n",
       "1     B        B2  Team Leadern Customer Ops & Systems  10+ years   \n",
       "2     B        B3                                  LTC  10+ years   \n",
       "\n",
       "  home_ownership  annual_inc verification_status   issue_d  loan_status  \\\n",
       "0       MORTGAGE     96500.0        Not Verified  Dec-2013            0   \n",
       "1            OWN     55000.0            Verified  Dec-2013            0   \n",
       "2       MORTGAGE    130000.0     Source Verified  Dec-2013            0   \n",
       "\n",
       "  pymnt_plan  url                                               desc  \\\n",
       "0          n  NaN    Borrower added on 12/31/13 > Bought a new ho...   \n",
       "1          n  NaN    Borrower added on 12/31/13 > Combining high ...   \n",
       "2          n  NaN                                                NaN   \n",
       "\n",
       "              purpose                                   title zip_code  \\\n",
       "0  debt_consolidation  Debt Consolidation and Credit Transfer    782xx   \n",
       "1  debt_consolidation                      Debt Consolidation    481xx   \n",
       "2  debt_consolidation                      Debt consolidation    809xx   \n",
       "\n",
       "  addr_state    dti  delinq_2yrs earliest_cr_line  inq_last_6mths  \\\n",
       "0         TX  12.61          0.0         Sep-2003             0.0   \n",
       "1         MI  22.87          0.0         Oct-1986             0.0   \n",
       "2         CO  13.03          0.0         Nov-1997             1.0   \n",
       "\n",
       "   mths_since_last_delinq  mths_since_last_record  open_acc  pub_rec  \\\n",
       "0                     NaN                     NaN      17.0      0.0   \n",
       "1                     NaN                     NaN      14.0      0.0   \n",
       "2                     NaN                     NaN       9.0      0.0   \n",
       "\n",
       "   revol_bal revol_util  total_acc initial_list_status  out_prncp  \\\n",
       "0    13248.0      55.7%       30.0                   f        0.0   \n",
       "1    36638.0      61.2%       27.0                   w        0.0   \n",
       "2    10805.0        67%       19.0                   f        0.0   \n",
       "\n",
       "   out_prncp_inv   total_pymnt             ...              \\\n",
       "0            0.0  13397.539998             ...               \n",
       "1            0.0  31752.530000             ...               \n",
       "2            0.0  14346.479050             ...               \n",
       "\n",
       "   acc_open_past_24mths  avg_cur_bal  bc_open_to_buy  bc_util  \\\n",
       "0                   4.0      11783.0          2441.0     83.5   \n",
       "1                   3.0       9570.0         16473.0     53.9   \n",
       "2                   4.0      36362.0          3567.0     93.0   \n",
       "\n",
       "   chargeoff_within_12_mths  delinq_amnt mo_sin_old_il_acct  \\\n",
       "0                       0.0          0.0              123.0   \n",
       "1                       0.0          0.0              117.0   \n",
       "2                       0.0          0.0              173.0   \n",
       "\n",
       "   mo_sin_old_rev_tl_op  mo_sin_rcnt_rev_tl_op  mo_sin_rcnt_tl  mort_acc  \\\n",
       "0                 118.0                   10.0             9.0       1.0   \n",
       "1                 326.0                   16.0             6.0       4.0   \n",
       "2                 193.0                    4.0             4.0       3.0   \n",
       "\n",
       "   mths_since_recent_bc  mths_since_recent_bc_dlq  mths_since_recent_inq  \\\n",
       "0                  10.0                       NaN                   10.0   \n",
       "1                  16.0                       NaN                    8.0   \n",
       "2                  85.0                       NaN                    4.0   \n",
       "\n",
       "   mths_since_recent_revol_delinq  num_accts_ever_120_pd  num_actv_bc_tl  \\\n",
       "0                             NaN                    0.0             4.0   \n",
       "1                             NaN                    0.0             2.0   \n",
       "2                             NaN                    0.0             3.0   \n",
       "\n",
       "   num_actv_rev_tl  num_bc_sats  num_bc_tl  num_il_tl  num_op_rev_tl  \\\n",
       "0              5.0          4.0       10.0       15.0            8.0   \n",
       "1              4.0          4.0        8.0        8.0           10.0   \n",
       "2              5.0          4.0        4.0        8.0            5.0   \n",
       "\n",
       "   num_rev_accts  num_rev_tl_bal_gt_0  num_sats  num_tl_120dpd_2m  \\\n",
       "0           14.0                  5.0      17.0               0.0   \n",
       "1           15.0                  4.0      14.0               0.0   \n",
       "2            8.0                  5.0       9.0               NaN   \n",
       "\n",
       "   num_tl_30dpd  num_tl_90g_dpd_24m  num_tl_op_past_12m  pct_tl_nvr_dlq  \\\n",
       "0           0.0                 0.0                 3.0           100.0   \n",
       "1           0.0                 0.0                 1.0           100.0   \n",
       "2           0.0                 0.0                 3.0           100.0   \n",
       "\n",
       "   percent_bc_gt_75  pub_rec_bankruptcies  tax_liens  tot_hi_cred_lim  \\\n",
       "0             100.0                   0.0        0.0         233004.0   \n",
       "1              25.0                   0.0        0.0         138554.0   \n",
       "2               1.0                   0.0        0.0         365874.0   \n",
       "\n",
       "   total_bal_ex_mort  total_bc_limit  total_il_high_credit_limit  \n",
       "0            46738.0         14800.0                     53404.0  \n",
       "1            70186.0         35700.0                     33054.0  \n",
       "2            44327.0         10700.0                     57674.0  \n",
       "\n",
       "[3 rows x 82 columns]"
      ]
     },
     "execution_count": 5,
     "metadata": {},
     "output_type": "execute_result"
    }
   ],
   "source": [
    "Dataset_withBoolTarget['loan_status'].value_counts()\n",
    "print(\"Current shape of dataset :\",Dataset_withBoolTarget.shape)\n",
    "Dataset_withBoolTarget.head(3)"
   ]
  },
  {
   "cell_type": "code",
   "execution_count": 6,
   "metadata": {},
   "outputs": [
    {
     "name": "stdout",
     "output_type": "stream",
     "text": [
      "Current shape of dataset : (411273, 76)\n"
     ]
    }
   ],
   "source": [
    "dataset=Dataset_withBoolTarget.dropna(thresh = 340000,axis=1) #340000 is minimum number of non-NA values\n",
    "print(\"Current shape of dataset :\",dataset.shape)"
   ]
  },
  {
   "cell_type": "code",
   "execution_count": 7,
   "metadata": {},
   "outputs": [
    {
     "name": "stdout",
     "output_type": "stream",
     "text": [
      "Current shape of dataset : (411273, 54)\n"
     ]
    }
   ],
   "source": [
    "del_col_names = [\"delinq_2yrs\",  \"last_pymnt_d\", \"chargeoff_within_12_mths\",\"delinq_amnt\",\"emp_title\", \"term\", \"emp_title\", \"pymnt_plan\",\"purpose\",\"title\", \"zip_code\", \"verification_status\", \"dti\",\"earliest_cr_line\", \"initial_list_status\", \"out_prncp\",\n",
    "\"pymnt_plan\", \"num_tl_90g_dpd_24m\", \"num_tl_30dpd\", \"num_tl_120dpd_2m\", \"num_accts_ever_120_pd\", \"delinq_amnt\", \n",
    "\"chargeoff_within_12_mths\", \"total_rec_late_fee\", \"out_prncp_inv\", \"issue_d\"] #deleting some more columns\n",
    "dataset = dataset.drop(labels = del_col_names, axis = 1) \n",
    "print(\"Current shape of dataset :\",dataset.shape)"
   ]
  },
  {
   "cell_type": "code",
   "execution_count": 8,
   "metadata": {},
   "outputs": [
    {
     "name": "stdout",
     "output_type": "stream",
     "text": [
      "Current shape of dataset : (411273, 18)\n"
     ]
    }
   ],
   "source": [
    "features = ['funded_amnt','emp_length','annual_inc','home_ownership','grade',\n",
    "            \"last_pymnt_amnt\", \"mort_acc\", \"pub_rec\", \"int_rate\", \"open_acc\",\"num_actv_rev_tl\",\n",
    "            \"mo_sin_rcnt_rev_tl_op\",\"mo_sin_old_rev_tl_op\",\"bc_util\",\"bc_open_to_buy\",\n",
    "            \"avg_cur_bal\",\"acc_open_past_24mths\",'loan_status'] #'sub_grade' #selecting final features #'addr_state''tax_liens',\n",
    "Final_data = dataset[features] #19 features with target var\n",
    "Final_data[\"int_rate\"] = Final_data[\"int_rate\"].apply(lambda x:float(x[:-1]) ) #reomving % sign, conv to float  - int_rate column\n",
    "Final_data= Final_data.reset_index(drop=True)\n",
    "print(\"Current shape of dataset :\",Final_data.shape)"
   ]
  },
  {
   "cell_type": "code",
   "execution_count": 9,
   "metadata": {},
   "outputs": [
    {
     "name": "stdout",
     "output_type": "stream",
     "text": [
      "Current shape of dataset : (411273, 18)\n"
     ]
    },
    {
     "data": {
      "text/plain": [
       "'Final_data[\\'grade\\'] = Final_data[\\'grade\\'].map({\\'A\\':7,\\'B\\':6,\\'C\\':5,\\'D\\':4,\\'E\\':3,\\'F\\':2,\\'G\\':1})\\nFinal_data[\"home_ownership\"] = Final_data[\"home_ownership\"].map({\"MORTGAGE\":6,\"RENT\":5,\"OWN\":4,\"OTHER\":3,\"NONE\":2,\"ANY\":1})\\nFinal_data[\"emp_length\"] = Final_data[\"emp_length\"].replace({\\'years\\':\\'\\',\\'year\\':\\'\\',\\' \\':\\'\\',\\'<\\':\\'\\',\\'\\\\+\\':\\'\\',\\'n/a\\':\\'0\\'}, regex = True)\\n\\n#Final_data[\"emp_length\"] = pd.to_numeric(Final_data[\"emp_length\"], downcast=\\'integer\\')\\nFinal_data[\"emp_length\"] = Final_data[\"emp_length\"].apply(lambda x:int(x))\\nprint(\"Current shape of dataset :\",Final_data.shape)\\n'"
      ]
     },
     "execution_count": 9,
     "metadata": {},
     "output_type": "execute_result"
    }
   ],
   "source": [
    "#Data encoding\n",
    "Final_data['grade'] = Final_data['grade'].map({'A':7,'B':6,'C':5,'D':4,'E':3,'F':2,'G':1})\n",
    "Final_data[\"home_ownership\"] = Final_data[\"home_ownership\"].map({\"MORTGAGE\":6,\"RENT\":5,\"OWN\":4,\"OTHER\":3,\"NONE\":2,\"ANY\":1})\n",
    "Final_data[\"emp_length\"] = Final_data[\"emp_length\"].replace({'years':'','year':'',' ':'','<':'','\\+':'','n/a':'0'}, regex = True)\n",
    "Final_data[\"emp_length\"] = Final_data[\"emp_length\"].apply(lambda x:pd.to_numeric(x, downcast='integer'))\n",
    "print(\"Current shape of dataset :\",Final_data.shape)\n",
    "Final_data.head()#Data encoding\n",
    "\"\"\"Final_data['grade'] = Final_data['grade'].map({'A':7,'B':6,'C':5,'D':4,'E':3,'F':2,'G':1})\n",
    "Final_data[\"home_ownership\"] = Final_data[\"home_ownership\"].map({\"MORTGAGE\":6,\"RENT\":5,\"OWN\":4,\"OTHER\":3,\"NONE\":2,\"ANY\":1})\n",
    "Final_data[\"emp_length\"] = Final_data[\"emp_length\"].replace({'years':'','year':'',' ':'','<':'','\\+':'','n/a':'0'}, regex = True)\n",
    "\n",
    "#Final_data[\"emp_length\"] = pd.to_numeric(Final_data[\"emp_length\"], downcast='integer')\n",
    "Final_data[\"emp_length\"] = Final_data[\"emp_length\"].apply(lambda x:int(x))\n",
    "print(\"Current shape of dataset :\",Final_data.shape)\n",
    "\"\"\""
   ]
  },
  {
   "cell_type": "code",
   "execution_count": 10,
   "metadata": {
    "scrolled": true
   },
   "outputs": [
    {
     "data": {
      "text/plain": [
       "nan"
      ]
     },
     "execution_count": 10,
     "metadata": {},
     "output_type": "execute_result"
    }
   ],
   "source": [
    "x=Final_data[\"emp_length\"]\n",
    "\n",
    "x[60]"
   ]
  },
  {
   "cell_type": "code",
   "execution_count": 11,
   "metadata": {},
   "outputs": [
    {
     "data": {
      "text/plain": [
       "True"
      ]
     },
     "execution_count": 11,
     "metadata": {},
     "output_type": "execute_result"
    }
   ],
   "source": [
    "Final_data.shape\n",
    "Final_data.isnull().values.any()"
   ]
  },
  {
   "cell_type": "code",
   "execution_count": 12,
   "metadata": {},
   "outputs": [
    {
     "name": "stdout",
     "output_type": "stream",
     "text": [
      "Current shape of dataset : (411273, 18)\n"
     ]
    }
   ],
   "source": [
    "Final_data.fillna(Final_data.mean(),inplace = True)\n",
    "HTML(Final_data.tail().to_html())\n",
    "print(\"Current shape of dataset :\",Final_data.shape)"
   ]
  },
  {
   "cell_type": "code",
   "execution_count": 13,
   "metadata": {},
   "outputs": [
    {
     "data": {
      "text/plain": [
       "False"
      ]
     },
     "execution_count": 13,
     "metadata": {},
     "output_type": "execute_result"
    }
   ],
   "source": [
    "Final_data.isnull().values.any()"
   ]
  },
  {
   "cell_type": "code",
   "execution_count": 14,
   "metadata": {},
   "outputs": [
    {
     "data": {
      "text/plain": [
       "0    340444\n",
       "1     70829\n",
       "Name: loan_status, dtype: int64"
      ]
     },
     "execution_count": 14,
     "metadata": {},
     "output_type": "execute_result"
    }
   ],
   "source": [
    "scl = preprocessing.StandardScaler() #instance of preprocessing\n",
    "fields = Final_data.columns.values[:-1]\n",
    "data_clean = pd.DataFrame(scl.fit_transform(Final_data[fields]), columns = fields)\n",
    "data_clean['loan_status'] = Final_data['loan_status']\n",
    "data_clean['loan_status'].value_counts()"
   ]
  },
  {
   "cell_type": "code",
   "execution_count": 15,
   "metadata": {},
   "outputs": [
    {
     "name": "stdout",
     "output_type": "stream",
     "text": [
      "Current shape of dataset : (11000, 18)\n"
     ]
    },
    {
     "data": {
      "text/html": [
       "<div>\n",
       "<style scoped>\n",
       "    .dataframe tbody tr th:only-of-type {\n",
       "        vertical-align: middle;\n",
       "    }\n",
       "\n",
       "    .dataframe tbody tr th {\n",
       "        vertical-align: top;\n",
       "    }\n",
       "\n",
       "    .dataframe thead th {\n",
       "        text-align: right;\n",
       "    }\n",
       "</style>\n",
       "<table border=\"1\" class=\"dataframe\">\n",
       "  <thead>\n",
       "    <tr style=\"text-align: right;\">\n",
       "      <th></th>\n",
       "      <th>funded_amnt</th>\n",
       "      <th>emp_length</th>\n",
       "      <th>annual_inc</th>\n",
       "      <th>home_ownership</th>\n",
       "      <th>grade</th>\n",
       "      <th>last_pymnt_amnt</th>\n",
       "      <th>mort_acc</th>\n",
       "      <th>pub_rec</th>\n",
       "      <th>int_rate</th>\n",
       "      <th>open_acc</th>\n",
       "      <th>num_actv_rev_tl</th>\n",
       "      <th>mo_sin_rcnt_rev_tl_op</th>\n",
       "      <th>mo_sin_old_rev_tl_op</th>\n",
       "      <th>bc_util</th>\n",
       "      <th>bc_open_to_buy</th>\n",
       "      <th>avg_cur_bal</th>\n",
       "      <th>acc_open_past_24mths</th>\n",
       "      <th>loan_status</th>\n",
       "    </tr>\n",
       "  </thead>\n",
       "  <tbody>\n",
       "    <tr>\n",
       "      <th>0</th>\n",
       "      <td>-0.783074</td>\n",
       "      <td>1.125154</td>\n",
       "      <td>0.307871</td>\n",
       "      <td>-2.171730</td>\n",
       "      <td>-0.146201</td>\n",
       "      <td>0.076577</td>\n",
       "      <td>1.470269</td>\n",
       "      <td>-0.323443</td>\n",
       "      <td>-0.066249</td>\n",
       "      <td>-0.871769</td>\n",
       "      <td>-0.930313</td>\n",
       "      <td>-0.672440</td>\n",
       "      <td>-0.650429</td>\n",
       "      <td>0.097935</td>\n",
       "      <td>-0.431649</td>\n",
       "      <td>-0.729181</td>\n",
       "      <td>0.286323</td>\n",
       "      <td>0</td>\n",
       "    </tr>\n",
       "    <tr>\n",
       "      <th>1</th>\n",
       "      <td>-0.783074</td>\n",
       "      <td>1.125154</td>\n",
       "      <td>0.131866</td>\n",
       "      <td>0.890293</td>\n",
       "      <td>1.387048</td>\n",
       "      <td>-0.691379</td>\n",
       "      <td>1.933835</td>\n",
       "      <td>-0.323443</td>\n",
       "      <td>-1.667777</td>\n",
       "      <td>-0.671151</td>\n",
       "      <td>-0.589591</td>\n",
       "      <td>-0.026613</td>\n",
       "      <td>-0.001622</td>\n",
       "      <td>-2.245203</td>\n",
       "      <td>1.799542</td>\n",
       "      <td>1.131016</td>\n",
       "      <td>-0.437197</td>\n",
       "      <td>0</td>\n",
       "    </tr>\n",
       "    <tr>\n",
       "      <th>2</th>\n",
       "      <td>1.096913</td>\n",
       "      <td>-1.515757</td>\n",
       "      <td>-0.083376</td>\n",
       "      <td>0.890293</td>\n",
       "      <td>-2.446075</td>\n",
       "      <td>-0.612231</td>\n",
       "      <td>-0.383997</td>\n",
       "      <td>-0.323443</td>\n",
       "      <td>2.161766</td>\n",
       "      <td>0.331940</td>\n",
       "      <td>0.773295</td>\n",
       "      <td>-0.866189</td>\n",
       "      <td>1.125254</td>\n",
       "      <td>-0.509973</td>\n",
       "      <td>-0.307079</td>\n",
       "      <td>0.277386</td>\n",
       "      <td>2.456885</td>\n",
       "      <td>1</td>\n",
       "    </tr>\n",
       "    <tr>\n",
       "      <th>3</th>\n",
       "      <td>-0.541275</td>\n",
       "      <td>1.125154</td>\n",
       "      <td>-0.438072</td>\n",
       "      <td>-0.640718</td>\n",
       "      <td>-0.146201</td>\n",
       "      <td>0.109687</td>\n",
       "      <td>-0.847563</td>\n",
       "      <td>1.568027</td>\n",
       "      <td>0.523788</td>\n",
       "      <td>-0.671151</td>\n",
       "      <td>-0.248869</td>\n",
       "      <td>-0.220361</td>\n",
       "      <td>-1.185410</td>\n",
       "      <td>0.525010</td>\n",
       "      <td>-0.578188</td>\n",
       "      <td>-0.608242</td>\n",
       "      <td>0.286323</td>\n",
       "      <td>0</td>\n",
       "    </tr>\n",
       "    <tr>\n",
       "      <th>4</th>\n",
       "      <td>-0.903974</td>\n",
       "      <td>-0.635454</td>\n",
       "      <td>-0.624558</td>\n",
       "      <td>-0.640718</td>\n",
       "      <td>1.387048</td>\n",
       "      <td>-0.625787</td>\n",
       "      <td>-0.847563</td>\n",
       "      <td>-0.323443</td>\n",
       "      <td>-1.553870</td>\n",
       "      <td>-0.671151</td>\n",
       "      <td>-0.248869</td>\n",
       "      <td>4.365014</td>\n",
       "      <td>0.954515</td>\n",
       "      <td>0.171038</td>\n",
       "      <td>-0.361011</td>\n",
       "      <td>-0.612987</td>\n",
       "      <td>-1.522478</td>\n",
       "      <td>0</td>\n",
       "    </tr>\n",
       "  </tbody>\n",
       "</table>\n",
       "</div>"
      ],
      "text/plain": [
       "   funded_amnt  emp_length  annual_inc  home_ownership     grade  \\\n",
       "0    -0.783074    1.125154    0.307871       -2.171730 -0.146201   \n",
       "1    -0.783074    1.125154    0.131866        0.890293  1.387048   \n",
       "2     1.096913   -1.515757   -0.083376        0.890293 -2.446075   \n",
       "3    -0.541275    1.125154   -0.438072       -0.640718 -0.146201   \n",
       "4    -0.903974   -0.635454   -0.624558       -0.640718  1.387048   \n",
       "\n",
       "   last_pymnt_amnt  mort_acc   pub_rec  int_rate  open_acc  num_actv_rev_tl  \\\n",
       "0         0.076577  1.470269 -0.323443 -0.066249 -0.871769        -0.930313   \n",
       "1        -0.691379  1.933835 -0.323443 -1.667777 -0.671151        -0.589591   \n",
       "2        -0.612231 -0.383997 -0.323443  2.161766  0.331940         0.773295   \n",
       "3         0.109687 -0.847563  1.568027  0.523788 -0.671151        -0.248869   \n",
       "4        -0.625787 -0.847563 -0.323443 -1.553870 -0.671151        -0.248869   \n",
       "\n",
       "   mo_sin_rcnt_rev_tl_op  mo_sin_old_rev_tl_op   bc_util  bc_open_to_buy  \\\n",
       "0              -0.672440             -0.650429  0.097935       -0.431649   \n",
       "1              -0.026613             -0.001622 -2.245203        1.799542   \n",
       "2              -0.866189              1.125254 -0.509973       -0.307079   \n",
       "3              -0.220361             -1.185410  0.525010       -0.578188   \n",
       "4               4.365014              0.954515  0.171038       -0.361011   \n",
       "\n",
       "   avg_cur_bal  acc_open_past_24mths  loan_status  \n",
       "0    -0.729181              0.286323            0  \n",
       "1     1.131016             -0.437197            0  \n",
       "2     0.277386              2.456885            1  \n",
       "3    -0.608242              0.286323            0  \n",
       "4    -0.612987             -1.522478            0  "
      ]
     },
     "execution_count": 15,
     "metadata": {},
     "output_type": "execute_result"
    }
   ],
   "source": [
    "loanstatus_0 = data_clean[data_clean[\"loan_status\"]==0]\n",
    "loanstatus_1 = data_clean[data_clean[\"loan_status\"]==1]\n",
    "subset_of_loanstatus_0 = loanstatus_0.sample(n=5500)\n",
    "subset_of_loanstatus_1 = loanstatus_1.sample(n=5500)\n",
    "data_clean = pd.concat([subset_of_loanstatus_1, subset_of_loanstatus_0])\n",
    "data_clean = data_clean.sample(frac=1).reset_index(drop=True)\n",
    "print(\"Current shape of dataset :\",data_clean.shape)\n",
    "data_clean.head()"
   ]
  },
  {
   "cell_type": "code",
   "execution_count": 16,
   "metadata": {},
   "outputs": [
    {
     "data": {
      "text/html": [
       "<div>\n",
       "<style scoped>\n",
       "    .dataframe tbody tr th:only-of-type {\n",
       "        vertical-align: middle;\n",
       "    }\n",
       "\n",
       "    .dataframe tbody tr th {\n",
       "        vertical-align: top;\n",
       "    }\n",
       "\n",
       "    .dataframe thead th {\n",
       "        text-align: right;\n",
       "    }\n",
       "</style>\n",
       "<table border=\"1\" class=\"dataframe\">\n",
       "  <thead>\n",
       "    <tr style=\"text-align: right;\">\n",
       "      <th></th>\n",
       "      <th>funded_amnt</th>\n",
       "      <th>emp_length</th>\n",
       "      <th>annual_inc</th>\n",
       "      <th>home_ownership</th>\n",
       "      <th>grade</th>\n",
       "      <th>last_pymnt_amnt</th>\n",
       "      <th>mort_acc</th>\n",
       "      <th>pub_rec</th>\n",
       "      <th>int_rate</th>\n",
       "      <th>open_acc</th>\n",
       "      <th>num_actv_rev_tl</th>\n",
       "      <th>mo_sin_rcnt_rev_tl_op</th>\n",
       "      <th>mo_sin_old_rev_tl_op</th>\n",
       "      <th>bc_util</th>\n",
       "      <th>bc_open_to_buy</th>\n",
       "      <th>avg_cur_bal</th>\n",
       "      <th>acc_open_past_24mths</th>\n",
       "      <th>loan_status</th>\n",
       "    </tr>\n",
       "  </thead>\n",
       "  <tbody>\n",
       "    <tr>\n",
       "      <th>funded_amnt</th>\n",
       "      <td>1.000000</td>\n",
       "      <td>0.102616</td>\n",
       "      <td>0.439738</td>\n",
       "      <td>0.189387</td>\n",
       "      <td>-0.178172</td>\n",
       "      <td>0.321214</td>\n",
       "      <td>0.230486</td>\n",
       "      <td>-0.089485</td>\n",
       "      <td>0.175802</td>\n",
       "      <td>0.200525</td>\n",
       "      <td>0.133832</td>\n",
       "      <td>0.049382</td>\n",
       "      <td>0.160007</td>\n",
       "      <td>0.035269</td>\n",
       "      <td>0.198038</td>\n",
       "      <td>0.228098</td>\n",
       "      <td>0.017260</td>\n",
       "      <td>0.068214</td>\n",
       "    </tr>\n",
       "    <tr>\n",
       "      <th>emp_length</th>\n",
       "      <td>0.102616</td>\n",
       "      <td>1.000000</td>\n",
       "      <td>0.080283</td>\n",
       "      <td>0.132818</td>\n",
       "      <td>-0.020014</td>\n",
       "      <td>0.024674</td>\n",
       "      <td>0.179594</td>\n",
       "      <td>0.018730</td>\n",
       "      <td>0.023282</td>\n",
       "      <td>0.025118</td>\n",
       "      <td>0.120307</td>\n",
       "      <td>0.006516</td>\n",
       "      <td>0.181599</td>\n",
       "      <td>0.043748</td>\n",
       "      <td>0.017145</td>\n",
       "      <td>0.089365</td>\n",
       "      <td>0.013119</td>\n",
       "      <td>0.009213</td>\n",
       "    </tr>\n",
       "    <tr>\n",
       "      <th>annual_inc</th>\n",
       "      <td>0.439738</td>\n",
       "      <td>0.080283</td>\n",
       "      <td>1.000000</td>\n",
       "      <td>0.188889</td>\n",
       "      <td>0.049761</td>\n",
       "      <td>0.222181</td>\n",
       "      <td>0.310049</td>\n",
       "      <td>-0.008866</td>\n",
       "      <td>-0.060676</td>\n",
       "      <td>0.184299</td>\n",
       "      <td>0.060570</td>\n",
       "      <td>0.070022</td>\n",
       "      <td>0.181613</td>\n",
       "      <td>-0.031628</td>\n",
       "      <td>0.213460</td>\n",
       "      <td>0.403924</td>\n",
       "      <td>0.061613</td>\n",
       "      <td>-0.082336</td>\n",
       "    </tr>\n",
       "    <tr>\n",
       "      <th>home_ownership</th>\n",
       "      <td>0.189387</td>\n",
       "      <td>0.132818</td>\n",
       "      <td>0.188889</td>\n",
       "      <td>1.000000</td>\n",
       "      <td>0.033867</td>\n",
       "      <td>0.096281</td>\n",
       "      <td>0.412344</td>\n",
       "      <td>-0.006074</td>\n",
       "      <td>-0.034826</td>\n",
       "      <td>0.110443</td>\n",
       "      <td>0.036738</td>\n",
       "      <td>0.006555</td>\n",
       "      <td>0.098062</td>\n",
       "      <td>0.021729</td>\n",
       "      <td>0.037513</td>\n",
       "      <td>0.379010</td>\n",
       "      <td>0.057754</td>\n",
       "      <td>-0.043958</td>\n",
       "    </tr>\n",
       "    <tr>\n",
       "      <th>grade</th>\n",
       "      <td>-0.178172</td>\n",
       "      <td>-0.020014</td>\n",
       "      <td>0.049761</td>\n",
       "      <td>0.033867</td>\n",
       "      <td>1.000000</td>\n",
       "      <td>0.009674</td>\n",
       "      <td>0.055016</td>\n",
       "      <td>-0.055074</td>\n",
       "      <td>-0.960636</td>\n",
       "      <td>-0.021634</td>\n",
       "      <td>-0.102178</td>\n",
       "      <td>0.119504</td>\n",
       "      <td>0.101973</td>\n",
       "      <td>-0.257776</td>\n",
       "      <td>0.258205</td>\n",
       "      <td>0.079906</td>\n",
       "      <td>-0.179318</td>\n",
       "      <td>-0.294300</td>\n",
       "    </tr>\n",
       "    <tr>\n",
       "      <th>last_pymnt_amnt</th>\n",
       "      <td>0.321214</td>\n",
       "      <td>0.024674</td>\n",
       "      <td>0.222181</td>\n",
       "      <td>0.096281</td>\n",
       "      <td>0.009674</td>\n",
       "      <td>1.000000</td>\n",
       "      <td>0.139284</td>\n",
       "      <td>-0.042780</td>\n",
       "      <td>-0.010324</td>\n",
       "      <td>0.048478</td>\n",
       "      <td>-0.016194</td>\n",
       "      <td>0.039127</td>\n",
       "      <td>0.057920</td>\n",
       "      <td>-0.036850</td>\n",
       "      <td>0.104105</td>\n",
       "      <td>0.161581</td>\n",
       "      <td>0.000132</td>\n",
       "      <td>-0.471214</td>\n",
       "    </tr>\n",
       "    <tr>\n",
       "      <th>mort_acc</th>\n",
       "      <td>0.230486</td>\n",
       "      <td>0.179594</td>\n",
       "      <td>0.310049</td>\n",
       "      <td>0.412344</td>\n",
       "      <td>0.055016</td>\n",
       "      <td>0.139284</td>\n",
       "      <td>1.000000</td>\n",
       "      <td>0.000817</td>\n",
       "      <td>-0.064229</td>\n",
       "      <td>0.127433</td>\n",
       "      <td>0.036093</td>\n",
       "      <td>0.018548</td>\n",
       "      <td>0.273293</td>\n",
       "      <td>-0.031961</td>\n",
       "      <td>0.134119</td>\n",
       "      <td>0.448479</td>\n",
       "      <td>0.069185</td>\n",
       "      <td>-0.061103</td>\n",
       "    </tr>\n",
       "    <tr>\n",
       "      <th>pub_rec</th>\n",
       "      <td>-0.089485</td>\n",
       "      <td>0.018730</td>\n",
       "      <td>-0.008866</td>\n",
       "      <td>-0.006074</td>\n",
       "      <td>-0.055074</td>\n",
       "      <td>-0.042780</td>\n",
       "      <td>0.000817</td>\n",
       "      <td>1.000000</td>\n",
       "      <td>0.045379</td>\n",
       "      <td>-0.041754</td>\n",
       "      <td>-0.024020</td>\n",
       "      <td>-0.040653</td>\n",
       "      <td>0.056381</td>\n",
       "      <td>-0.036669</td>\n",
       "      <td>-0.094100</td>\n",
       "      <td>-0.047816</td>\n",
       "      <td>0.052957</td>\n",
       "      <td>0.024913</td>\n",
       "    </tr>\n",
       "    <tr>\n",
       "      <th>int_rate</th>\n",
       "      <td>0.175802</td>\n",
       "      <td>0.023282</td>\n",
       "      <td>-0.060676</td>\n",
       "      <td>-0.034826</td>\n",
       "      <td>-0.960636</td>\n",
       "      <td>-0.010324</td>\n",
       "      <td>-0.064229</td>\n",
       "      <td>0.045379</td>\n",
       "      <td>1.000000</td>\n",
       "      <td>0.011336</td>\n",
       "      <td>0.111190</td>\n",
       "      <td>-0.118816</td>\n",
       "      <td>-0.109304</td>\n",
       "      <td>0.286944</td>\n",
       "      <td>-0.286293</td>\n",
       "      <td>-0.085639</td>\n",
       "      <td>0.164013</td>\n",
       "      <td>0.294327</td>\n",
       "    </tr>\n",
       "    <tr>\n",
       "      <th>open_acc</th>\n",
       "      <td>0.200525</td>\n",
       "      <td>0.025118</td>\n",
       "      <td>0.184299</td>\n",
       "      <td>0.110443</td>\n",
       "      <td>-0.021634</td>\n",
       "      <td>0.048478</td>\n",
       "      <td>0.127433</td>\n",
       "      <td>-0.041754</td>\n",
       "      <td>0.011336</td>\n",
       "      <td>1.000000</td>\n",
       "      <td>0.622077</td>\n",
       "      <td>-0.196937</td>\n",
       "      <td>0.121393</td>\n",
       "      <td>-0.093644</td>\n",
       "      <td>0.254103</td>\n",
       "      <td>-0.086381</td>\n",
       "      <td>0.457237</td>\n",
       "      <td>0.029398</td>\n",
       "    </tr>\n",
       "    <tr>\n",
       "      <th>num_actv_rev_tl</th>\n",
       "      <td>0.133832</td>\n",
       "      <td>0.120307</td>\n",
       "      <td>0.060570</td>\n",
       "      <td>0.036738</td>\n",
       "      <td>-0.102178</td>\n",
       "      <td>-0.016194</td>\n",
       "      <td>0.036093</td>\n",
       "      <td>-0.024020</td>\n",
       "      <td>0.111190</td>\n",
       "      <td>0.622077</td>\n",
       "      <td>1.000000</td>\n",
       "      <td>-0.211041</td>\n",
       "      <td>0.139631</td>\n",
       "      <td>0.112797</td>\n",
       "      <td>0.088881</td>\n",
       "      <td>-0.173945</td>\n",
       "      <td>0.287299</td>\n",
       "      <td>0.079696</td>\n",
       "    </tr>\n",
       "    <tr>\n",
       "      <th>mo_sin_rcnt_rev_tl_op</th>\n",
       "      <td>0.049382</td>\n",
       "      <td>0.006516</td>\n",
       "      <td>0.070022</td>\n",
       "      <td>0.006555</td>\n",
       "      <td>0.119504</td>\n",
       "      <td>0.039127</td>\n",
       "      <td>0.018548</td>\n",
       "      <td>-0.040653</td>\n",
       "      <td>-0.118816</td>\n",
       "      <td>-0.196937</td>\n",
       "      <td>-0.211041</td>\n",
       "      <td>1.000000</td>\n",
       "      <td>0.054664</td>\n",
       "      <td>0.106980</td>\n",
       "      <td>-0.045247</td>\n",
       "      <td>0.170879</td>\n",
       "      <td>-0.393891</td>\n",
       "      <td>-0.079214</td>\n",
       "    </tr>\n",
       "    <tr>\n",
       "      <th>mo_sin_old_rev_tl_op</th>\n",
       "      <td>0.160007</td>\n",
       "      <td>0.181599</td>\n",
       "      <td>0.181613</td>\n",
       "      <td>0.098062</td>\n",
       "      <td>0.101973</td>\n",
       "      <td>0.057920</td>\n",
       "      <td>0.273293</td>\n",
       "      <td>0.056381</td>\n",
       "      <td>-0.109304</td>\n",
       "      <td>0.121393</td>\n",
       "      <td>0.139631</td>\n",
       "      <td>0.054664</td>\n",
       "      <td>1.000000</td>\n",
       "      <td>-0.022143</td>\n",
       "      <td>0.197189</td>\n",
       "      <td>0.127742</td>\n",
       "      <td>-0.051812</td>\n",
       "      <td>-0.061381</td>\n",
       "    </tr>\n",
       "    <tr>\n",
       "      <th>bc_util</th>\n",
       "      <td>0.035269</td>\n",
       "      <td>0.043748</td>\n",
       "      <td>-0.031628</td>\n",
       "      <td>0.021729</td>\n",
       "      <td>-0.257776</td>\n",
       "      <td>-0.036850</td>\n",
       "      <td>-0.031961</td>\n",
       "      <td>-0.036669</td>\n",
       "      <td>0.286944</td>\n",
       "      <td>-0.093644</td>\n",
       "      <td>0.112797</td>\n",
       "      <td>0.106980</td>\n",
       "      <td>-0.022143</td>\n",
       "      <td>1.000000</td>\n",
       "      <td>-0.554359</td>\n",
       "      <td>0.044823</td>\n",
       "      <td>-0.136566</td>\n",
       "      <td>0.077226</td>\n",
       "    </tr>\n",
       "    <tr>\n",
       "      <th>bc_open_to_buy</th>\n",
       "      <td>0.198038</td>\n",
       "      <td>0.017145</td>\n",
       "      <td>0.213460</td>\n",
       "      <td>0.037513</td>\n",
       "      <td>0.258205</td>\n",
       "      <td>0.104105</td>\n",
       "      <td>0.134119</td>\n",
       "      <td>-0.094100</td>\n",
       "      <td>-0.286293</td>\n",
       "      <td>0.254103</td>\n",
       "      <td>0.088881</td>\n",
       "      <td>-0.045247</td>\n",
       "      <td>0.197189</td>\n",
       "      <td>-0.554359</td>\n",
       "      <td>1.000000</td>\n",
       "      <td>0.052620</td>\n",
       "      <td>0.052616</td>\n",
       "      <td>-0.097129</td>\n",
       "    </tr>\n",
       "    <tr>\n",
       "      <th>avg_cur_bal</th>\n",
       "      <td>0.228098</td>\n",
       "      <td>0.089365</td>\n",
       "      <td>0.403924</td>\n",
       "      <td>0.379010</td>\n",
       "      <td>0.079906</td>\n",
       "      <td>0.161581</td>\n",
       "      <td>0.448479</td>\n",
       "      <td>-0.047816</td>\n",
       "      <td>-0.085639</td>\n",
       "      <td>-0.086381</td>\n",
       "      <td>-0.173945</td>\n",
       "      <td>0.170879</td>\n",
       "      <td>0.127742</td>\n",
       "      <td>0.044823</td>\n",
       "      <td>0.052620</td>\n",
       "      <td>1.000000</td>\n",
       "      <td>-0.062583</td>\n",
       "      <td>-0.094112</td>\n",
       "    </tr>\n",
       "    <tr>\n",
       "      <th>acc_open_past_24mths</th>\n",
       "      <td>0.017260</td>\n",
       "      <td>0.013119</td>\n",
       "      <td>0.061613</td>\n",
       "      <td>0.057754</td>\n",
       "      <td>-0.179318</td>\n",
       "      <td>0.000132</td>\n",
       "      <td>0.069185</td>\n",
       "      <td>0.052957</td>\n",
       "      <td>0.164013</td>\n",
       "      <td>0.457237</td>\n",
       "      <td>0.287299</td>\n",
       "      <td>-0.393891</td>\n",
       "      <td>-0.051812</td>\n",
       "      <td>-0.136566</td>\n",
       "      <td>0.052616</td>\n",
       "      <td>-0.062583</td>\n",
       "      <td>1.000000</td>\n",
       "      <td>0.118359</td>\n",
       "    </tr>\n",
       "    <tr>\n",
       "      <th>loan_status</th>\n",
       "      <td>0.068214</td>\n",
       "      <td>0.009213</td>\n",
       "      <td>-0.082336</td>\n",
       "      <td>-0.043958</td>\n",
       "      <td>-0.294300</td>\n",
       "      <td>-0.471214</td>\n",
       "      <td>-0.061103</td>\n",
       "      <td>0.024913</td>\n",
       "      <td>0.294327</td>\n",
       "      <td>0.029398</td>\n",
       "      <td>0.079696</td>\n",
       "      <td>-0.079214</td>\n",
       "      <td>-0.061381</td>\n",
       "      <td>0.077226</td>\n",
       "      <td>-0.097129</td>\n",
       "      <td>-0.094112</td>\n",
       "      <td>0.118359</td>\n",
       "      <td>1.000000</td>\n",
       "    </tr>\n",
       "  </tbody>\n",
       "</table>\n",
       "</div>"
      ],
      "text/plain": [
       "                       funded_amnt  emp_length  annual_inc  home_ownership  \\\n",
       "funded_amnt               1.000000    0.102616    0.439738        0.189387   \n",
       "emp_length                0.102616    1.000000    0.080283        0.132818   \n",
       "annual_inc                0.439738    0.080283    1.000000        0.188889   \n",
       "home_ownership            0.189387    0.132818    0.188889        1.000000   \n",
       "grade                    -0.178172   -0.020014    0.049761        0.033867   \n",
       "last_pymnt_amnt           0.321214    0.024674    0.222181        0.096281   \n",
       "mort_acc                  0.230486    0.179594    0.310049        0.412344   \n",
       "pub_rec                  -0.089485    0.018730   -0.008866       -0.006074   \n",
       "int_rate                  0.175802    0.023282   -0.060676       -0.034826   \n",
       "open_acc                  0.200525    0.025118    0.184299        0.110443   \n",
       "num_actv_rev_tl           0.133832    0.120307    0.060570        0.036738   \n",
       "mo_sin_rcnt_rev_tl_op     0.049382    0.006516    0.070022        0.006555   \n",
       "mo_sin_old_rev_tl_op      0.160007    0.181599    0.181613        0.098062   \n",
       "bc_util                   0.035269    0.043748   -0.031628        0.021729   \n",
       "bc_open_to_buy            0.198038    0.017145    0.213460        0.037513   \n",
       "avg_cur_bal               0.228098    0.089365    0.403924        0.379010   \n",
       "acc_open_past_24mths      0.017260    0.013119    0.061613        0.057754   \n",
       "loan_status               0.068214    0.009213   -0.082336       -0.043958   \n",
       "\n",
       "                          grade  last_pymnt_amnt  mort_acc   pub_rec  \\\n",
       "funded_amnt           -0.178172         0.321214  0.230486 -0.089485   \n",
       "emp_length            -0.020014         0.024674  0.179594  0.018730   \n",
       "annual_inc             0.049761         0.222181  0.310049 -0.008866   \n",
       "home_ownership         0.033867         0.096281  0.412344 -0.006074   \n",
       "grade                  1.000000         0.009674  0.055016 -0.055074   \n",
       "last_pymnt_amnt        0.009674         1.000000  0.139284 -0.042780   \n",
       "mort_acc               0.055016         0.139284  1.000000  0.000817   \n",
       "pub_rec               -0.055074        -0.042780  0.000817  1.000000   \n",
       "int_rate              -0.960636        -0.010324 -0.064229  0.045379   \n",
       "open_acc              -0.021634         0.048478  0.127433 -0.041754   \n",
       "num_actv_rev_tl       -0.102178        -0.016194  0.036093 -0.024020   \n",
       "mo_sin_rcnt_rev_tl_op  0.119504         0.039127  0.018548 -0.040653   \n",
       "mo_sin_old_rev_tl_op   0.101973         0.057920  0.273293  0.056381   \n",
       "bc_util               -0.257776        -0.036850 -0.031961 -0.036669   \n",
       "bc_open_to_buy         0.258205         0.104105  0.134119 -0.094100   \n",
       "avg_cur_bal            0.079906         0.161581  0.448479 -0.047816   \n",
       "acc_open_past_24mths  -0.179318         0.000132  0.069185  0.052957   \n",
       "loan_status           -0.294300        -0.471214 -0.061103  0.024913   \n",
       "\n",
       "                       int_rate  open_acc  num_actv_rev_tl  \\\n",
       "funded_amnt            0.175802  0.200525         0.133832   \n",
       "emp_length             0.023282  0.025118         0.120307   \n",
       "annual_inc            -0.060676  0.184299         0.060570   \n",
       "home_ownership        -0.034826  0.110443         0.036738   \n",
       "grade                 -0.960636 -0.021634        -0.102178   \n",
       "last_pymnt_amnt       -0.010324  0.048478        -0.016194   \n",
       "mort_acc              -0.064229  0.127433         0.036093   \n",
       "pub_rec                0.045379 -0.041754        -0.024020   \n",
       "int_rate               1.000000  0.011336         0.111190   \n",
       "open_acc               0.011336  1.000000         0.622077   \n",
       "num_actv_rev_tl        0.111190  0.622077         1.000000   \n",
       "mo_sin_rcnt_rev_tl_op -0.118816 -0.196937        -0.211041   \n",
       "mo_sin_old_rev_tl_op  -0.109304  0.121393         0.139631   \n",
       "bc_util                0.286944 -0.093644         0.112797   \n",
       "bc_open_to_buy        -0.286293  0.254103         0.088881   \n",
       "avg_cur_bal           -0.085639 -0.086381        -0.173945   \n",
       "acc_open_past_24mths   0.164013  0.457237         0.287299   \n",
       "loan_status            0.294327  0.029398         0.079696   \n",
       "\n",
       "                       mo_sin_rcnt_rev_tl_op  mo_sin_old_rev_tl_op   bc_util  \\\n",
       "funded_amnt                         0.049382              0.160007  0.035269   \n",
       "emp_length                          0.006516              0.181599  0.043748   \n",
       "annual_inc                          0.070022              0.181613 -0.031628   \n",
       "home_ownership                      0.006555              0.098062  0.021729   \n",
       "grade                               0.119504              0.101973 -0.257776   \n",
       "last_pymnt_amnt                     0.039127              0.057920 -0.036850   \n",
       "mort_acc                            0.018548              0.273293 -0.031961   \n",
       "pub_rec                            -0.040653              0.056381 -0.036669   \n",
       "int_rate                           -0.118816             -0.109304  0.286944   \n",
       "open_acc                           -0.196937              0.121393 -0.093644   \n",
       "num_actv_rev_tl                    -0.211041              0.139631  0.112797   \n",
       "mo_sin_rcnt_rev_tl_op               1.000000              0.054664  0.106980   \n",
       "mo_sin_old_rev_tl_op                0.054664              1.000000 -0.022143   \n",
       "bc_util                             0.106980             -0.022143  1.000000   \n",
       "bc_open_to_buy                     -0.045247              0.197189 -0.554359   \n",
       "avg_cur_bal                         0.170879              0.127742  0.044823   \n",
       "acc_open_past_24mths               -0.393891             -0.051812 -0.136566   \n",
       "loan_status                        -0.079214             -0.061381  0.077226   \n",
       "\n",
       "                       bc_open_to_buy  avg_cur_bal  acc_open_past_24mths  \\\n",
       "funded_amnt                  0.198038     0.228098              0.017260   \n",
       "emp_length                   0.017145     0.089365              0.013119   \n",
       "annual_inc                   0.213460     0.403924              0.061613   \n",
       "home_ownership               0.037513     0.379010              0.057754   \n",
       "grade                        0.258205     0.079906             -0.179318   \n",
       "last_pymnt_amnt              0.104105     0.161581              0.000132   \n",
       "mort_acc                     0.134119     0.448479              0.069185   \n",
       "pub_rec                     -0.094100    -0.047816              0.052957   \n",
       "int_rate                    -0.286293    -0.085639              0.164013   \n",
       "open_acc                     0.254103    -0.086381              0.457237   \n",
       "num_actv_rev_tl              0.088881    -0.173945              0.287299   \n",
       "mo_sin_rcnt_rev_tl_op       -0.045247     0.170879             -0.393891   \n",
       "mo_sin_old_rev_tl_op         0.197189     0.127742             -0.051812   \n",
       "bc_util                     -0.554359     0.044823             -0.136566   \n",
       "bc_open_to_buy               1.000000     0.052620              0.052616   \n",
       "avg_cur_bal                  0.052620     1.000000             -0.062583   \n",
       "acc_open_past_24mths         0.052616    -0.062583              1.000000   \n",
       "loan_status                 -0.097129    -0.094112              0.118359   \n",
       "\n",
       "                       loan_status  \n",
       "funded_amnt               0.068214  \n",
       "emp_length                0.009213  \n",
       "annual_inc               -0.082336  \n",
       "home_ownership           -0.043958  \n",
       "grade                    -0.294300  \n",
       "last_pymnt_amnt          -0.471214  \n",
       "mort_acc                 -0.061103  \n",
       "pub_rec                   0.024913  \n",
       "int_rate                  0.294327  \n",
       "open_acc                  0.029398  \n",
       "num_actv_rev_tl           0.079696  \n",
       "mo_sin_rcnt_rev_tl_op    -0.079214  \n",
       "mo_sin_old_rev_tl_op     -0.061381  \n",
       "bc_util                   0.077226  \n",
       "bc_open_to_buy           -0.097129  \n",
       "avg_cur_bal              -0.094112  \n",
       "acc_open_past_24mths      0.118359  \n",
       "loan_status               1.000000  "
      ]
     },
     "execution_count": 16,
     "metadata": {},
     "output_type": "execute_result"
    }
   ],
   "source": [
    "data_clean.corr()"
   ]
  },
  {
   "cell_type": "markdown",
   "metadata": {},
   "source": [
    "# Plotting Learning Curves for Logistic Regression"
   ]
  },
  {
   "cell_type": "code",
   "execution_count": 17,
   "metadata": {},
   "outputs": [
    {
     "data": {
      "image/png": "[encoded data removed]",
      "text/plain": [
       "<Figure size 432x288 with 1 Axes>"
      ]
     },
     "metadata": {
      "needs_background": "light"
     },
     "output_type": "display_data"
    }
   ],
   "source": [
    "\n",
    "import numpy as np\n",
    "from sklearn.svm import SVC\n",
    "from sklearn.model_selection import learning_curve\n",
    "from sklearn.model_selection import ShuffleSplit\n",
    "\n",
    "def plot_learning_curve(estimator, title, X, y, ylim=None, cv=None,\n",
    "                        n_jobs=1, train_sizes=np.linspace(.1, 1.0, 5)):\n",
    "    plt.figure()\n",
    "    plt.title(title)\n",
    "    if ylim is not None:\n",
    "        plt.ylim(*ylim)\n",
    "    plt.xlabel(\"Training examples\")\n",
    "    plt.ylabel(\"Score\")\n",
    "    train_sizes, train_scores, test_scores = learning_curve(\n",
    "        estimator, X, y, cv=cv, n_jobs=n_jobs, train_sizes=train_sizes)\n",
    "    train_scores_mean = np.mean(train_scores, axis=1)\n",
    "    train_scores_std = np.std(train_scores, axis=1)\n",
    "    test_scores_mean = np.mean(test_scores, axis=1)\n",
    "    test_scores_std = np.std(test_scores, axis=1)\n",
    "    plt.grid()\n",
    "    \n",
    "    plt.fill_between(train_sizes, train_scores_mean - train_scores_std,\n",
    "                     train_scores_mean + train_scores_std, alpha=0.1,\n",
    "                     color=\"r\")\n",
    "    plt.fill_between(train_sizes, test_scores_mean - test_scores_std,\n",
    "                     test_scores_mean + test_scores_std, alpha=0.1, color=\"g\")\n",
    "    plt.plot(train_sizes, train_scores_mean, 'o-', color=\"r\",\n",
    "             label=\"Training score\")\n",
    "    plt.plot(train_sizes, test_scores_mean, 'o-', color=\"g\",\n",
    "             label=\"Cross-validation score\")\n",
    "    plt.legend(loc=\"best\")\n",
    "    return plt\n",
    "\n",
    "X, y = data_clean.iloc[:,:-1].values, data_clean.iloc[:,-1].values\n",
    "title = \"Learning Curves (Logistic Regression)\"\n",
    "# Cross validation with 100 iterations to get smoother mean test and train\n",
    "# score curves, each time with 20% data randomly selected as a validation set.\n",
    "cv = ShuffleSplit(n_splits=100, test_size=0.2, random_state=0)\n",
    "estimator = linear_model.LogisticRegression()\n",
    "plot_learning_curve(estimator, title, X, y, ylim=(0.75, 0.90), cv=cv, n_jobs=4)\n",
    "plt.show()"
   ]
  },
  {
   "cell_type": "markdown",
   "metadata": {},
   "source": [
    "# Plot Area under the Curve AUC roc_curve auc"
   ]
  },
  {
   "cell_type": "code",
   "execution_count": 18,
   "metadata": {},
   "outputs": [],
   "source": [
    "import seaborn as sns\n",
    "sns.set('talk', 'whitegrid', 'dark', font_scale=1,rc={\"lines.linewidth\": 2, 'grid.linestyle': '--'})\n",
    "def plotAUC(truth, pred, lab):\n",
    "    fpr, tpr, _ = metrics.roc_curve(truth,pred)\n",
    "    roc_auc = metrics.auc(fpr, tpr)\n",
    "    lw = 2\n",
    "    c = (np.random.rand(), np.random.rand(), np.random.rand())\n",
    "    plt.plot(fpr, tpr, color= c,lw=lw, label= lab +'(AUC = %0.2f)' % roc_auc)\n",
    "    plt.plot([0, 1], [0, 1], color='navy', lw=lw, linestyle='--')\n",
    "    plt.xlim([0.0, 1.0])\n",
    "    plt.ylim([0.0, 1.0])\n",
    "    plt.xlabel('False Positive Rate')\n",
    "    plt.ylabel('True Positive Rate')\n",
    "    plt.title('ROC curve') #Receiver Operating Characteristic \n",
    "    plt.legend(loc=\"lower right\")"
   ]
  },
  {
   "cell_type": "markdown",
   "metadata": {},
   "source": [
    "# Plot Confusion Matrix plot_confusion_matrix"
   ]
  },
  {
   "cell_type": "code",
   "execution_count": 19,
   "metadata": {},
   "outputs": [],
   "source": [
    "import itertools\n",
    "from sklearn.metrics import confusion_matrix\n",
    "def plot_confusion_matrix(model, normalize=False): # This function prints and plots the confusion matrix.\n",
    "    cm = confusion_matrix(y_test, model, labels=[0, 1])\n",
    "    classes=[\"Will Pay\", \"Will Default\"]\n",
    "    cmap = plt.cm.Blues\n",
    "    title = \"Confusion Matrix\"\n",
    "    if normalize:\n",
    "        cm = cm.astype('float') / cm.sum(axis=1)[:, np.newaxis]\n",
    "        cm = np.around(cm, decimals=3)\n",
    "    plt.imshow(cm, interpolation='nearest', cmap=cmap)\n",
    "    plt.title(title)\n",
    "    plt.colorbar()\n",
    "    tick_marks = np.arange(len(classes))\n",
    "    plt.xticks(tick_marks, classes, rotation=45)\n",
    "    plt.yticks(tick_marks, classes)\n",
    "    thresh = cm.max() / 2.\n",
    "    for i, j in itertools.product(range(cm.shape[0]), range(cm.shape[1])):\n",
    "        plt.text(j, i, cm[i, j],\n",
    "                 horizontalalignment=\"center\",\n",
    "                 color=\"white\" if cm[i, j] > thresh else \"black\")\n",
    "    plt.tight_layout()\n",
    "    plt.ylabel('True label')\n",
    "    plt.xlabel('Predicted label')"
   ]
  },
  {
   "cell_type": "code",
   "execution_count": 20,
   "metadata": {},
   "outputs": [],
   "source": [
    "X_train, X_test, y_train, y_test = train_test_split(data_clean.iloc[:,:-1], data_clean.iloc[:,-1], test_size=0.2, random_state=42)\n",
    "bs_train, bs_test = train_test_split(data_clean, test_size = 0.2, random_state=42) #just for bootstrapping"
   ]
  },
  {
   "cell_type": "code",
   "execution_count": 21,
   "metadata": {},
   "outputs": [
    {
     "data": {
      "text/html": [
       "<div>\n",
       "<style scoped>\n",
       "    .dataframe tbody tr th:only-of-type {\n",
       "        vertical-align: middle;\n",
       "    }\n",
       "\n",
       "    .dataframe tbody tr th {\n",
       "        vertical-align: top;\n",
       "    }\n",
       "\n",
       "    .dataframe thead th {\n",
       "        text-align: right;\n",
       "    }\n",
       "</style>\n",
       "<table border=\"1\" class=\"dataframe\">\n",
       "  <thead>\n",
       "    <tr style=\"text-align: right;\">\n",
       "      <th></th>\n",
       "      <th>funded_amnt</th>\n",
       "      <th>emp_length</th>\n",
       "      <th>annual_inc</th>\n",
       "      <th>home_ownership</th>\n",
       "      <th>grade</th>\n",
       "      <th>last_pymnt_amnt</th>\n",
       "      <th>mort_acc</th>\n",
       "      <th>pub_rec</th>\n",
       "      <th>int_rate</th>\n",
       "      <th>open_acc</th>\n",
       "      <th>num_actv_rev_tl</th>\n",
       "      <th>mo_sin_rcnt_rev_tl_op</th>\n",
       "      <th>mo_sin_old_rev_tl_op</th>\n",
       "      <th>bc_util</th>\n",
       "      <th>bc_open_to_buy</th>\n",
       "      <th>avg_cur_bal</th>\n",
       "      <th>acc_open_past_24mths</th>\n",
       "    </tr>\n",
       "  </thead>\n",
       "  <tbody>\n",
       "    <tr>\n",
       "      <th>10735</th>\n",
       "      <td>-1.372460</td>\n",
       "      <td>-1.222323</td>\n",
       "      <td>-0.684607</td>\n",
       "      <td>-2.171730</td>\n",
       "      <td>1.387048</td>\n",
       "      <td>-0.469767</td>\n",
       "      <td>1.029324e-16</td>\n",
       "      <td>-0.323443</td>\n",
       "      <td>-1.148362</td>\n",
       "      <td>0.331940</td>\n",
       "      <td>0.000000</td>\n",
       "      <td>0.000000</td>\n",
       "      <td>0.000000</td>\n",
       "      <td>-9.677744e-14</td>\n",
       "      <td>1.387573e-16</td>\n",
       "      <td>1.166424e-16</td>\n",
       "      <td>0.000000</td>\n",
       "    </tr>\n",
       "    <tr>\n",
       "      <th>5937</th>\n",
       "      <td>0.667720</td>\n",
       "      <td>-0.048584</td>\n",
       "      <td>-0.312754</td>\n",
       "      <td>-0.640718</td>\n",
       "      <td>-0.912826</td>\n",
       "      <td>-0.647990</td>\n",
       "      <td>-8.475634e-01</td>\n",
       "      <td>1.568027</td>\n",
       "      <td>0.979415</td>\n",
       "      <td>0.532558</td>\n",
       "      <td>1.454738</td>\n",
       "      <td>-0.543275</td>\n",
       "      <td>-0.126830</td>\n",
       "      <td>5.250096e-01</td>\n",
       "      <td>-3.906850e-01</td>\n",
       "      <td>-6.639662e-01</td>\n",
       "      <td>-0.075437</td>\n",
       "    </tr>\n",
       "    <tr>\n",
       "      <th>7642</th>\n",
       "      <td>-0.480826</td>\n",
       "      <td>1.125154</td>\n",
       "      <td>-0.344829</td>\n",
       "      <td>-0.640718</td>\n",
       "      <td>-0.912826</td>\n",
       "      <td>-0.718668</td>\n",
       "      <td>-8.475634e-01</td>\n",
       "      <td>-0.323443</td>\n",
       "      <td>0.603522</td>\n",
       "      <td>0.331940</td>\n",
       "      <td>0.091852</td>\n",
       "      <td>-0.737023</td>\n",
       "      <td>-0.798402</td>\n",
       "      <td>1.364103e-01</td>\n",
       "      <td>-3.195896e-01</td>\n",
       "      <td>-7.872782e-01</td>\n",
       "      <td>0.648083</td>\n",
       "    </tr>\n",
       "    <tr>\n",
       "      <th>3328</th>\n",
       "      <td>0.719102</td>\n",
       "      <td>-1.222323</td>\n",
       "      <td>0.009494</td>\n",
       "      <td>0.890293</td>\n",
       "      <td>-0.912826</td>\n",
       "      <td>-0.613579</td>\n",
       "      <td>-8.475634e-01</td>\n",
       "      <td>-0.323443</td>\n",
       "      <td>0.535178</td>\n",
       "      <td>1.335031</td>\n",
       "      <td>-0.930313</td>\n",
       "      <td>-0.349527</td>\n",
       "      <td>-0.001622</td>\n",
       "      <td>-2.521890e-01</td>\n",
       "      <td>-7.754487e-02</td>\n",
       "      <td>-3.967580e-01</td>\n",
       "      <td>1.009844</td>\n",
       "    </tr>\n",
       "    <tr>\n",
       "      <th>8681</th>\n",
       "      <td>0.280841</td>\n",
       "      <td>1.125154</td>\n",
       "      <td>0.643546</td>\n",
       "      <td>0.890293</td>\n",
       "      <td>0.620423</td>\n",
       "      <td>0.552567</td>\n",
       "      <td>5.431359e-01</td>\n",
       "      <td>-0.323443</td>\n",
       "      <td>-0.444419</td>\n",
       "      <td>1.335031</td>\n",
       "      <td>1.454738</td>\n",
       "      <td>-0.672440</td>\n",
       "      <td>0.408151</td>\n",
       "      <td>5.442472e-01</td>\n",
       "      <td>-2.615386e-01</td>\n",
       "      <td>6.006728e-02</td>\n",
       "      <td>-0.437197</td>\n",
       "    </tr>\n",
       "  </tbody>\n",
       "</table>\n",
       "</div>"
      ],
      "text/plain": [
       "       funded_amnt  emp_length  annual_inc  home_ownership     grade  \\\n",
       "10735    -1.372460   -1.222323   -0.684607       -2.171730  1.387048   \n",
       "5937      0.667720   -0.048584   -0.312754       -0.640718 -0.912826   \n",
       "7642     -0.480826    1.125154   -0.344829       -0.640718 -0.912826   \n",
       "3328      0.719102   -1.222323    0.009494        0.890293 -0.912826   \n",
       "8681      0.280841    1.125154    0.643546        0.890293  0.620423   \n",
       "\n",
       "       last_pymnt_amnt      mort_acc   pub_rec  int_rate  open_acc  \\\n",
       "10735        -0.469767  1.029324e-16 -0.323443 -1.148362  0.331940   \n",
       "5937         -0.647990 -8.475634e-01  1.568027  0.979415  0.532558   \n",
       "7642         -0.718668 -8.475634e-01 -0.323443  0.603522  0.331940   \n",
       "3328         -0.613579 -8.475634e-01 -0.323443  0.535178  1.335031   \n",
       "8681          0.552567  5.431359e-01 -0.323443 -0.444419  1.335031   \n",
       "\n",
       "       num_actv_rev_tl  mo_sin_rcnt_rev_tl_op  mo_sin_old_rev_tl_op  \\\n",
       "10735         0.000000               0.000000              0.000000   \n",
       "5937          1.454738              -0.543275             -0.126830   \n",
       "7642          0.091852              -0.737023             -0.798402   \n",
       "3328         -0.930313              -0.349527             -0.001622   \n",
       "8681          1.454738              -0.672440              0.408151   \n",
       "\n",
       "            bc_util  bc_open_to_buy   avg_cur_bal  acc_open_past_24mths  \n",
       "10735 -9.677744e-14    1.387573e-16  1.166424e-16              0.000000  \n",
       "5937   5.250096e-01   -3.906850e-01 -6.639662e-01             -0.075437  \n",
       "7642   1.364103e-01   -3.195896e-01 -7.872782e-01              0.648083  \n",
       "3328  -2.521890e-01   -7.754487e-02 -3.967580e-01              1.009844  \n",
       "8681   5.442472e-01   -2.615386e-01  6.006728e-02             -0.437197  "
      ]
     },
     "execution_count": 21,
     "metadata": {},
     "output_type": "execute_result"
    }
   ],
   "source": [
    "X_train.head()"
   ]
  },
  {
   "cell_type": "code",
   "execution_count": 22,
   "metadata": {},
   "outputs": [
    {
     "name": "stdout",
     "output_type": "stream",
     "text": [
      "[ True False  True False  True  True False False  True  True False False\n",
      "  True  True  True False  True]\n",
      "[1 8 1 5 1 1 4 3 1 1 7 6 1 1 1 2 1]\n"
     ]
    }
   ],
   "source": [
    "from sklearn.feature_selection import RFE\n",
    "# create the RFE model and select 3 attributes\n",
    "clf_LR = linear_model.LogisticRegression(C=1e30)\n",
    "clf_LR.fit(X_train,y_train)\n",
    "rfe = RFE(clf_LR, 10)\n",
    "rfe = rfe.fit(data_clean.iloc[:,:-1].values, data_clean.iloc[:,-1].values)\n",
    "# summarize the selection of the attributes\n",
    "print(rfe.support_)\n",
    "print(rfe.ranking_)\n",
    "# ['funded_amnt','emp_length','annual_inc','home_ownership','grade',\"last_pymnt_amnt\", \"mort_acc\", \"pub_rec\", \n",
    "# \"int_rate\", \"open_acc\",\"num_actv_rev_tl\",\"mo_sin_rcnt_rev_tl_op\",\"mo_sin_old_rev_tl_op\",\"bc_util\",\"bc_open_to_buy\",\n",
    "#\"avg_cur_bal\",\"acc_open_past_24mths\",'loan_status']"
   ]
  },
  {
   "cell_type": "code",
   "execution_count": 23,
   "metadata": {},
   "outputs": [
    {
     "name": "stdout",
     "output_type": "stream",
     "text": [
      "Expected Variance is [0.16224066 0.15695664 0.12748871 0.07530107 0.07194842 0.06409097\n",
      " 0.05344116 0.04734749 0.04412606 0.0406561 ]\n"
     ]
    }
   ],
   "source": [
    "#PCA (Principal Component Analysis)\n",
    "from sklearn.decomposition import PCA \n",
    "pca = PCA(n_components=10, whiten=True)\n",
    "X_train_pca = pca.fit_transform(X_train)\n",
    "X_test_pca = pca.transform(X_test)\n",
    "explained_variance = pca.explained_variance_ratio_\n",
    "print('Expected Variance is '+ str(explained_variance))"
   ]
  },
  {
   "cell_type": "code",
   "execution_count": 24,
   "metadata": {},
   "outputs": [
    {
     "name": "stdout",
     "output_type": "stream",
     "text": [
      "(8800, 10)\n",
      "(11000, 11)\n"
     ]
    }
   ],
   "source": [
    "features = ['funded_amnt','annual_inc','grade',\"last_pymnt_amnt\", \"int_rate\",\n",
    "            \"mo_sin_rcnt_rev_tl_op\",\"mo_sin_old_rev_tl_op\",\"bc_util\",\"bc_open_to_buy\",\"acc_open_past_24mths\",\"loan_status\"]\n",
    "X_train, X_test = X_train[features[:-1]], X_test[features[:-1]]\n",
    "data_clean = data_clean[features]\n",
    "print(X_train.shape)\n",
    "print(data_clean.shape)"
   ]
  },
  {
   "cell_type": "markdown",
   "metadata": {},
   "source": [
    "# Plot Correlation Coefficient"
   ]
  },
  {
   "cell_type": "code",
   "execution_count": 25,
   "metadata": {},
   "outputs": [
    {
     "data": {
      "text/plain": [
       "<matplotlib.axes._subplots.AxesSubplot at 0x21f8148dd68>"
      ]
     },
     "execution_count": 25,
     "metadata": {},
     "output_type": "execute_result"
    },
    {
     "data": {
      "image/png": "[encoded data removed]",
      "text/plain": [
       "<Figure size 720x720 with 2 Axes>"
      ]
     },
     "metadata": {},
     "output_type": "display_data"
    }
   ],
   "source": [
    "dataViz = data_clean\n",
    "sns.set_context(context='notebook')\n",
    "fig, ax = plt.subplots(figsize=(10,10)) \n",
    "corr = dataViz.corr()\n",
    "\n",
    "# Generate a mask for the upper triangle\n",
    "mask = np.zeros_like(corr, dtype=np.bool)\n",
    "mask[np.tril_indices_from(mask)] = True\n",
    "\n",
    "# Generate a custom diverging colormap\n",
    "cmap = sns.diverging_palette(220, 10, as_cmap=True)\n",
    "\n",
    "sns.heatmap(corr, cmap=cmap,linewidths=1, vmin=-1, vmax=1, square=True, cbar=True, center=0, ax=ax, mask=mask)"
   ]
  },
  {
   "cell_type": "code",
   "execution_count": 26,
   "metadata": {},
   "outputs": [
    {
     "name": "stdout",
     "output_type": "stream",
     "text": [
      "RandomForestClassifier(bootstrap=True, class_weight=None, criterion='gini',\n",
      "            max_depth=None, max_features=4, max_leaf_nodes=None,\n",
      "            min_impurity_decrease=0.0, min_impurity_split=None,\n",
      "            min_samples_leaf=1, min_samples_split=2,\n",
      "            min_weight_fraction_leaf=0.0, n_estimators=10, n_jobs=1,\n",
      "            oob_score=False, random_state=0, verbose=0, warm_start=False)\n"
     ]
    },
    {
     "data": {
      "text/plain": [
       "[0.7836363636363637,\n",
       " 0.7972727272727272,\n",
       " 0.8022727272727272,\n",
       " 0.8085454545454546,\n",
       " 0.8079090909090909,\n",
       " 0.8050909090909091,\n",
       " 0.8041818181818182,\n",
       " 0.8074545454545454,\n",
       " 0.8079090909090909]"
      ]
     },
     "execution_count": 26,
     "metadata": {},
     "output_type": "execute_result"
    }
   ],
   "source": [
    "from sklearn.grid_search import RandomizedSearchCV\n",
    "rf = RandomForestClassifier(criterion='gini', random_state=0)\n",
    "maxFeatures = range(1,data_clean.shape[1]-1)\n",
    "param_dist = dict(max_features=maxFeatures)\n",
    "rand = RandomizedSearchCV(rf, param_dist, cv=10, scoring='accuracy', n_iter=len(maxFeatures), random_state=10)\n",
    "X=data_clean.iloc[:,:-1].values\n",
    "y=data_clean.iloc[:,-1].values\n",
    "rand.fit(X,y)\n",
    "mean_scores = [result.mean_validation_score for result in rand.grid_scores_]\n",
    "#print('Best Accuracy = '+str(rand.best_score_))\n",
    "print(rand.best_estimator_)\n",
    "mean_scores"
   ]
  },
  {
   "cell_type": "code",
   "execution_count": 27,
   "metadata": {},
   "outputs": [
    {
     "name": "stdout",
     "output_type": "stream",
     "text": [
      "0.8218181818181818\n"
     ]
    }
   ],
   "source": [
    "randomForest = RandomForestClassifier(bootstrap=True,criterion = \"gini\",max_features=rand.best_estimator_.max_features,random_state=0 )\n",
    "randomForest.fit(X_train,y_train)\n",
    "rfPredict = randomForest.predict(X_test)\n",
    "rfPredictproba = randomForest.predict_proba(X_test)[:,1] #for ROC curve\n",
    "rfAccuracy = accuracy_score(y_test,rfPredict)\n",
    "roc_score = metrics.roc_auc_score(y_test,rfPredict)\n",
    "print(rfAccuracy)"
   ]
  },
  {
   "cell_type": "code",
   "execution_count": 28,
   "metadata": {},
   "outputs": [
    {
     "data": {
      "text/plain": [
       "Text(0,0.5,'Normalized Gini Importance')"
      ]
     },
     "execution_count": 28,
     "metadata": {},
     "output_type": "execute_result"
    },
    {
     "data": {
      "image/png": "[encoded data removed]",
      "text/plain": [
       "<Figure size 432x288 with 1 Axes>"
      ]
     },
     "metadata": {},
     "output_type": "display_data"
    }
   ],
   "source": [
    "fig, ax = plt.subplots()\n",
    "width=0.35\n",
    "ax.bar(np.arange(len(features)-1), randomForest.feature_importances_, width, color='r')\n",
    "ax.set_xticks(np.arange(len(randomForest.feature_importances_)))\n",
    "ax.set_xticklabels(X_train.columns.values,rotation=90)\n",
    "plt.title('Feature Importance from DT')\n",
    "ax.set_ylabel('Normalized Gini Importance')"
   ]
  },
  {
   "cell_type": "code",
   "execution_count": 29,
   "metadata": {},
   "outputs": [
    {
     "data": {
      "image/png": "[encoded data removed]",
      "text/plain": [
       "<Figure size 432x288 with 1 Axes>"
      ]
     },
     "metadata": {},
     "output_type": "display_data"
    },
    {
     "data": {
      "image/png": "[encoded data removed]",
      "text/plain": [
       "<Figure size 432x432 with 2 Axes>"
      ]
     },
     "metadata": {},
     "output_type": "display_data"
    }
   ],
   "source": [
    "plotAUC(y_test,rfPredictproba, 'Random Forest')\n",
    "plt.show()\n",
    "plt.figure(figsize=(6,6))\n",
    "plot_confusion_matrix(rfPredict, normalize=True)\n",
    "plt.show()"
   ]
  },
  {
   "cell_type": "code",
   "execution_count": 30,
   "metadata": {},
   "outputs": [
    {
     "name": "stdout",
     "output_type": "stream",
     "text": [
      "Best accuracy is 0.8203636363636364\n",
      "LogisticRegression(C=1000, class_weight=None, dual=False, fit_intercept=True,\n",
      "          intercept_scaling=1, max_iter=100, multi_class='ovr', n_jobs=1,\n",
      "          penalty='l2', random_state=0, solver='liblinear', tol=0.0001,\n",
      "          verbose=0, warm_start=False)\n"
     ]
    }
   ],
   "source": [
    "from sklearn.model_selection import GridSearchCV\n",
    "def cross_validation_best_parameters(model, param_grid):\n",
    "    grid = GridSearchCV(model, param_grid,cv=10, scoring='accuracy')\n",
    "    X=data_clean.iloc[:,:-1].values\n",
    "    y=data_clean.iloc[:,-1].values\n",
    "    grid.fit(X,y)\n",
    "    mean_scores = [result.mean_validation_score for result in grid.grid_scores_]\n",
    "    return mean_scores,grid.best_score_,grid.best_estimator_\n",
    "logreg = linear_model.LogisticRegression(random_state=0)\n",
    "c=[0.001, 0.01, 0.1, 1, 10, 100, 1000]\n",
    "param_grid = dict(C=c)\n",
    "mean_scores,Best_Accuracy, Best_classifier = cross_validation_best_parameters(logreg,param_grid)\n",
    "print(\"Best accuracy is \"+ str(Best_Accuracy))\n",
    "print(Best_classifier)"
   ]
  },
  {
   "cell_type": "code",
   "execution_count": 31,
   "metadata": {},
   "outputs": [
    {
     "name": "stdout",
     "output_type": "stream",
     "text": [
      "Logistic regression accuracy is  0.8281818181818181\n"
     ]
    },
    {
     "data": {
      "image/png": "[encoded data removed]",
      "text/plain": [
       "<Figure size 432x288 with 1 Axes>"
      ]
     },
     "metadata": {},
     "output_type": "display_data"
    },
    {
     "data": {
      "image/png": "[encoded data removed]",
      "text/plain": [
       "<Figure size 432x432 with 2 Axes>"
      ]
     },
     "metadata": {},
     "output_type": "display_data"
    }
   ],
   "source": [
    "clf_LR = linear_model.LogisticRegression(C=Best_classifier.C)\n",
    "clf_LR.fit(X_train,y_train)\n",
    "LR_Predict = clf_LR.predict_proba(X_test)[:,1]\n",
    "LR_Predict_bin = clf_LR.predict(X_test)\n",
    "LR_Accuracy = accuracy_score(y_test,LR_Predict.round())\n",
    "print(\"Logistic regression accuracy is \",LR_Accuracy)\n",
    "plotAUC(y_test,rfPredictproba, 'Random Forest')\n",
    "plotAUC(y_test,LR_Predict,'Logistic Regression')\n",
    "plt.show()\n",
    "plt.figure(figsize=(6,6))\n",
    "plot_confusion_matrix(LR_Predict_bin, normalize=True)\n",
    "plt.show()"
   ]
  },
  {
   "cell_type": "code",
   "execution_count": 32,
   "metadata": {},
   "outputs": [
    {
     "data": {
      "text/plain": [
       "'from sklearn.grid_search import GridSearchCV    ## takes too much time to run this cell.\\nclf_svm = svm.SVC()\\npowers = range(0,5)\\ncs = [10**i for i in powers]\\nparam_grid = dict(C=cs)\\ngrid = GridSearchCV(clf_svm, param_grid, cv=10, scoring=\\'accuracy\\')\\ngrid.fit(data_clean.iloc[:,:-1].values, data_clean.iloc[:,-1].values)\\ngrid_mean_scores = [result.mean_validation_score for result in grid.grid_scores_]# create a list of the mean scores only\\nprint(grid.best_params_)\\nprint(\"---------------\")\\nprint(grid.best_estimator_)'"
      ]
     },
     "execution_count": 32,
     "metadata": {},
     "output_type": "execute_result"
    }
   ],
   "source": [
    "\"\"\"from sklearn.grid_search import GridSearchCV    ## takes too much time to run this cell.\n",
    "clf_svm = svm.SVC()\n",
    "powers = range(0,5)\n",
    "cs = [10**i for i in powers]\n",
    "param_grid = dict(C=cs)\n",
    "grid = GridSearchCV(clf_svm, param_grid, cv=10, scoring='accuracy')\n",
    "grid.fit(data_clean.iloc[:,:-1].values, data_clean.iloc[:,-1].values)\n",
    "grid_mean_scores = [result.mean_validation_score for result in grid.grid_scores_]# create a list of the mean scores only\n",
    "print(grid.best_params_)\n",
    "print(\"---------------\")\n",
    "print(grid.best_estimator_)\"\"\""
   ]
  },
  {
   "cell_type": "code",
   "execution_count": 33,
   "metadata": {},
   "outputs": [
    {
     "data": {
      "text/plain": [
       "'clf_svm = svm.SVC(kernel = \"rbf\", C=grid.best_estimator_.C)\\nclf_svm.fit(X_train.iloc[:,:],y_train)\\npredictions_svm = clf_svm.predict(X_test.iloc[:,:])\\npredictproba_svm = clf_svm.decision_function(X_test.iloc[:,:])\\nSVM_Accuracy = accuracy_score(y_test,predictions_svm)\\nprint(\"SVM accuracy is \",SVM_Accuracy)\\nplotAUC(y_test,predictproba_svm, \\'SVM\\')\\nplotAUC(y_test,rfPredictproba, \\'Random Forest\\')\\nplotAUC(y_test,LR_Predict,\\'Logistic Regression\\')\\nplt.show()\\nplt.figure(figsize=(6,6))\\nplot_confusion_matrix(predictions_svm, normalize=True)\\nplt.show()'"
      ]
     },
     "execution_count": 33,
     "metadata": {},
     "output_type": "execute_result"
    }
   ],
   "source": [
    "\"\"\"clf_svm = svm.SVC(kernel = \"rbf\", C=grid.best_estimator_.C)\n",
    "clf_svm.fit(X_train.iloc[:,:],y_train)\n",
    "predictions_svm = clf_svm.predict(X_test.iloc[:,:])\n",
    "predictproba_svm = clf_svm.decision_function(X_test.iloc[:,:])\n",
    "SVM_Accuracy = accuracy_score(y_test,predictions_svm)\n",
    "print(\"SVM accuracy is \",SVM_Accuracy)\n",
    "plotAUC(y_test,predictproba_svm, 'SVM')\n",
    "plotAUC(y_test,rfPredictproba, 'Random Forest')\n",
    "plotAUC(y_test,LR_Predict,'Logistic Regression')\n",
    "plt.show()\n",
    "plt.figure(figsize=(6,6))\n",
    "plot_confusion_matrix(predictions_svm, normalize=True)\n",
    "plt.show()\"\"\""
   ]
  },
  {
   "cell_type": "code",
   "execution_count": 34,
   "metadata": {},
   "outputs": [
    {
     "name": "stdout",
     "output_type": "stream",
     "text": [
      "{'n_neighbors': 42}\n",
      "---------------\n",
      "KNeighborsClassifier(algorithm='auto', leaf_size=30, metric='minkowski',\n",
      "           metric_params=None, n_jobs=1, n_neighbors=42, p=2,\n",
      "           weights='uniform')\n"
     ]
    }
   ],
   "source": [
    "#KNN_Acc = knnfunc(2,10) - 74.8 max, 75.7 for 15, 25 - 76.2, 30 - 76.1\n",
    "from sklearn.grid_search import GridSearchCV    ## takes too much time to run this cell.\n",
    "clf_knn = KNeighborsClassifier()\n",
    "k_range = list(range(35, 50))\n",
    "param_grid = dict(n_neighbors=k_range)\n",
    "grid = GridSearchCV(clf_knn, param_grid, cv=10, scoring='accuracy')\n",
    "grid.fit(data_clean.iloc[:,:-1].values, data_clean.iloc[:,-1].values)\n",
    "grid_mean_scores = [result.mean_validation_score for result in grid.grid_scores_]# create a list of the mean scores only\n",
    "print(grid.best_params_)\n",
    "print(\"---------------\")\n",
    "print(grid.best_estimator_)"
   ]
  },
  {
   "cell_type": "code",
   "execution_count": 35,
   "metadata": {},
   "outputs": [
    {
     "name": "stdout",
     "output_type": "stream",
     "text": [
      " 42\n",
      "KNN accuracy is  0.7631818181818182\n"
     ]
    },
    {
     "data": {
      "image/png": "[encoded data removed]",
      "text/plain": [
       "<Figure size 432x288 with 1 Axes>"
      ]
     },
     "metadata": {},
     "output_type": "display_data"
    },
    {
     "data": {
      "image/png": "[encoded data removed]",
      "text/plain": [
       "<Figure size 432x432 with 2 Axes>"
      ]
     },
     "metadata": {},
     "output_type": "display_data"
    }
   ],
   "source": [
    "print(\"\",grid.best_params_['n_neighbors'])\n",
    "clf_knn_final = KNeighborsClassifier(n_neighbors=grid.best_params_['n_neighbors'])   #taking the the best from the above cell and using it to find predictions\n",
    "clf_knn_final.fit(X_train,y_train)\n",
    "knn_pred = clf_knn_final.predict(X_test)\n",
    "knn_predictproba = clf_knn_final.predict_proba(X_test)[:,1]\n",
    "KNN_Acc = accuracy_score(y_test,knn_pred)\n",
    "print(\"KNN accuracy is \",KNN_Acc)\n",
    "plotAUC(y_test,rfPredictproba, 'Random Forest')\n",
    "plotAUC(y_test,LR_Predict,'Logistic Regression')\n",
    "#plotAUC(y_test,predictproba_svm, 'SVM')\n",
    "plotAUC(y_test,knn_predictproba,'K Nearest Neighbors')\n",
    "plt.show()\n",
    "plt.figure(figsize=(6,6))\n",
    "plot_confusion_matrix(knn_pred, normalize=True)\n",
    "plt.show()"
   ]
  },
  {
   "cell_type": "markdown",
   "metadata": {},
   "source": [
    "# Bagging, Model Evaluation, KFold, Ensemble"
   ]
  },
  {
   "cell_type": "code",
   "execution_count": 36,
   "metadata": {},
   "outputs": [
    {
     "name": "stdout",
     "output_type": "stream",
     "text": [
      "0.8298181818181819\n"
     ]
    }
   ],
   "source": [
    "from sklearn import model_selection\n",
    "from sklearn.ensemble import BaggingClassifier\n",
    "seed = 7\n",
    "kfold = model_selection.KFold(n_splits=10, random_state=seed)\n",
    "num_trees = 100\n",
    "model = BaggingClassifier(base_estimator=randomForest, n_estimators=num_trees, random_state=seed)\n",
    "results = model_selection.cross_val_score(model, data_clean.iloc[:,:-1].values, data_clean.iloc[:,-1].values, cv=kfold)\n",
    "print(results.mean())"
   ]
  },
  {
   "cell_type": "code",
   "execution_count": 37,
   "metadata": {},
   "outputs": [
    {
     "name": "stdout",
     "output_type": "stream",
     "text": [
      "0.8193636363636363\n"
     ]
    }
   ],
   "source": [
    "from sklearn import model_selection\n",
    "from sklearn.ensemble import BaggingClassifier\n",
    "seed = 7\n",
    "kfold = model_selection.KFold(n_splits=10, random_state=seed)\n",
    "#num_trees = 100\n",
    "model = BaggingClassifier(base_estimator=clf_LR, random_state=seed)\n",
    "results = model_selection.cross_val_score(model, data_clean.iloc[:,:-1].values, data_clean.iloc[:,-1].values, cv=kfold)\n",
    "print(results.mean())"
   ]
  },
  {
   "cell_type": "code",
   "execution_count": 38,
   "metadata": {},
   "outputs": [
    {
     "data": {
      "text/plain": [
       "0.8212723023101454"
      ]
     },
     "execution_count": 38,
     "metadata": {},
     "output_type": "execute_result"
    }
   ],
   "source": [
    "from sklearn.model_selection import cross_val_score\n",
    "from sklearn.datasets import load_iris\n",
    "from sklearn.ensemble import AdaBoostClassifier\n",
    "Ada_clf = AdaBoostClassifier(n_estimators=50)\n",
    "scores = cross_val_score(Ada_clf, data_clean.iloc[:,:-1].values, data_clean.iloc[:,-1].values)\n",
    "scores.mean()"
   ]
  },
  {
   "cell_type": "markdown",
   "metadata": {},
   "source": [
    "# Neural Network, MLPClassifier"
   ]
  },
  {
   "cell_type": "code",
   "execution_count": 39,
   "metadata": {},
   "outputs": [
    {
     "name": "stdout",
     "output_type": "stream",
     "text": [
      "0.8218181818181818\n"
     ]
    },
    {
     "data": {
      "image/png": "[encoded data removed]",
      "text/plain": [
       "<Figure size 432x288 with 1 Axes>"
      ]
     },
     "metadata": {},
     "output_type": "display_data"
    },
    {
     "data": {
      "image/png": "[encoded data removed]",
      "text/plain": [
       "<Figure size 432x432 with 2 Axes>"
      ]
     },
     "metadata": {},
     "output_type": "display_data"
    }
   ],
   "source": [
    "from sklearn.neural_network import MLPClassifier\n",
    "clf_NN = MLPClassifier(solver='lbfgs', alpha=1e-5,hidden_layer_sizes=(5, 2), random_state=1)\n",
    "clf_NN.fit(X_train,y_train)     \n",
    "predict_NN = clf_NN.predict(X_test)\n",
    "predictproba_NN = clf_NN.predict_proba(X_test)[:,1]\n",
    "NNAccuracy = accuracy_score(y_test,predict_NN)\n",
    "print(NNAccuracy)\n",
    "plotAUC(y_test,rfPredictproba, 'Random Forest')\n",
    "plotAUC(y_test,LR_Predict,'Logistic Regression')\n",
    "#plotAUC(y_test,predictproba_svm, 'SVM')\n",
    "plotAUC(y_test,knn_predictproba,'K Nearest Neighbors')\n",
    "plotAUC(y_test,predictproba_NN,'MLP')\n",
    "plt.show()\n",
    "plt.figure(figsize=(6,6))\n",
    "plot_confusion_matrix(predict_NN, normalize=True)\n",
    "plt.show()"
   ]
  },
  {
   "cell_type": "markdown",
   "metadata": {},
   "source": [
    "# Generate Classification Report"
   ]
  },
  {
   "cell_type": "code",
   "execution_count": 40,
   "metadata": {},
   "outputs": [
    {
     "name": "stdout",
     "output_type": "stream",
     "text": [
      "RF              precision    recall  f1-score   support\n",
      "\n",
      "          0       0.85      0.79      0.82      1111\n",
      "          1       0.80      0.85      0.83      1089\n",
      "\n",
      "avg / total       0.82      0.82      0.82      2200\n",
      "\n",
      "LR              precision    recall  f1-score   support\n",
      "\n",
      "          0       0.92      0.73      0.81      1111\n",
      "          1       0.77      0.93      0.84      1089\n",
      "\n",
      "avg / total       0.84      0.83      0.83      2200\n",
      "\n",
      "KNN              precision    recall  f1-score   support\n",
      "\n",
      "          0       0.82      0.69      0.75      1111\n",
      "          1       0.72      0.84      0.78      1089\n",
      "\n",
      "avg / total       0.77      0.76      0.76      2200\n",
      "\n",
      "MLP              precision    recall  f1-score   support\n",
      "\n",
      "          0       0.91      0.72      0.80      1111\n",
      "          1       0.76      0.93      0.84      1089\n",
      "\n",
      "avg / total       0.84      0.82      0.82      2200\n",
      "\n"
     ]
    }
   ],
   "source": [
    "from sklearn.metrics import classification_report\n",
    "print(\"RF\",classification_report(y_test, rfPredict, target_names=None))\n",
    "#print(\"SVM\",classification_report(y_test, predictions_svm, target_names=None))\n",
    "print(\"LR\",classification_report(y_test, LR_Predict_bin, target_names=None))\n",
    "print(\"KNN\",classification_report(y_test, knn_pred, target_names=None))\n",
    "print(\"MLP\",classification_report(y_test, predict_NN, target_names=None))"
   ]
  },
  {
   "cell_type": "markdown",
   "metadata": {},
   "source": [
    "# Mod Bootstrapping"
   ]
  },
  {
   "cell_type": "code",
   "execution_count": 41,
   "metadata": {},
   "outputs": [],
   "source": [
    "def modBootstrapper(train, test, nruns, sampsize, model, c):\n",
    "    target = 'loan_status'\n",
    "    aucs_boot = []\n",
    "    for i in range(nruns):\n",
    "        train_samp = train.iloc[np.random.randint(0, len(train), size = sampsize)] #selecting random indexes for KFold\n",
    "        if (model == \"LR\"):\n",
    "            lr_i = linear_model.LogisticRegression(C = 1e30)\n",
    "            lr_i.fit(train_samp.drop(target,1), train_samp[target]) #Logistic regression\n",
    "            p = lr_i.predict_proba(test.drop(target,1))[:,1]\n",
    "        elif (model == \"SVM\"):\n",
    "            svm_i = svm.SVC(kernel='rbf', C = c) \n",
    "            svm_i.fit(train_samp.drop(target,1), train_samp[target])#SVM fitting and predicting if lr==0\n",
    "            p = svm_i.decision_function(test.drop(target,1))\n",
    "        elif (model == \"RF\"):\n",
    "            RF_i = RandomForestClassifier(bootstrap=True,criterion = \"gini\")\n",
    "            RF_i.fit(train_samp.drop(target,1), train_samp[target])\n",
    "            p = RF_i.predict_proba(X_test)[:,1]\n",
    "        elif (model == \"KNN\"):\n",
    "            knn_i = KNeighborsClassifier(n_neighbors= 30) #taking the the best from the above cell and using it to find predictions\n",
    "            knn_i.fit(train_samp.drop(target,1), train_samp[target])\n",
    "            p = knn_i.predict_proba(X_test)[:,1]\n",
    "            \n",
    "        aucs_boot.append(metrics.roc_auc_score(test[target], p)) #calculating auc scores for each bag in bootstrapping\n",
    "    \n",
    "    return [np.mean(aucs_boot), np.sqrt(np.var(aucs_boot))] #mean, standard error = square root of variance"
   ]
  },
  {
   "cell_type": "code",
   "execution_count": 42,
   "metadata": {},
   "outputs": [
    {
     "name": "stdout",
     "output_type": "stream",
     "text": [
      "250\n",
      "1000\n",
      "1500\n",
      "2000\n",
      "2750\n",
      "3750\n",
      "4500\n",
      "5200\n",
      "6500\n",
      "7000\n",
      "8000\n",
      "8500\n",
      "9000\n",
      "10000\n",
      "11000\n"
     ]
    }
   ],
   "source": [
    "bs_train, bs_test = train_test_split(data_clean, test_size = 0.2, random_state=42) #just for bootstrapping\n",
    "SampleSizes = [250,1000,1500,2000,2750,3750,4500,5200,6500,7000,8000,8500,9000,10000,11000] #various samples of Dataset\n",
    "LR_means = []\n",
    "Lr_stderr = []\n",
    "svm_means = []\n",
    "svm_stderr = []\n",
    "RF_means = []\n",
    "RF_stderr = []\n",
    "KNN_means = []\n",
    "KNN_stderr = []\n",
    "for n in SampleSizes:\n",
    "    mean, err = modBootstrapper(bs_train, bs_test, 20, n, \"LR\", 0.1)# collecting means and stderrs for LR model\n",
    "    LR_means.append(mean)\n",
    "    Lr_stderr.append(err)\n",
    "    mean2, err2 = modBootstrapper(bs_train, bs_test, 20, n,\"SVM\", 0.1)# collecting means and stderrs for SVM model\n",
    "    svm_means.append(mean2)\n",
    "    svm_stderr.append(err2)\n",
    "    mean3, err3 = modBootstrapper(bs_train, bs_test, 20, n,\"RF\", 0.1)# collecting means and stderrs for SVM model\n",
    "    RF_means.append(mean3)\n",
    "    RF_stderr.append(err3)\n",
    "    mean4, err4 = modBootstrapper(bs_train, bs_test, 20, n,\"KNN\", 0.1)# collecting means and stderrs for SVM model\n",
    "    KNN_means.append(mean4)\n",
    "    KNN_stderr.append(err4)\n",
    "    print(n)"
   ]
  },
  {
   "cell_type": "markdown",
   "metadata": {},
   "source": [
    "# Plot Logarithmic Curve, ROC AUC Score"
   ]
  },
  {
   "cell_type": "code",
   "execution_count": 43,
   "metadata": {},
   "outputs": [
    {
     "data": {
      "text/plain": [
       "Text(0,0.5,'roc_auc_score')"
      ]
     },
     "execution_count": 43,
     "metadata": {},
     "output_type": "execute_result"
    },
    {
     "data": {
      "image/png": "[encoded data removed]",
      "text/plain": [
       "<Figure size 432x288 with 1 Axes>"
      ]
     },
     "metadata": {},
     "output_type": "display_data"
    }
   ],
   "source": [
    "plt.plot(np.log2(SampleSizes), LR_means, 'r', label = 'LR means')\n",
    "plt.plot(np.log2(SampleSizes), LR_means + np.array(Lr_stderr), 'r+-', label = 'LR means + stderr')\n",
    "plt.plot(np.log2(SampleSizes), LR_means - np.array(Lr_stderr), 'r--',  label = 'LR means + stderr')\n",
    "\n",
    "plt.plot(np.log2(SampleSizes), svm_means, 'g', label = 'SVM means')\n",
    "plt.plot(np.log2(SampleSizes), svm_means + np.array(svm_stderr), 'g+-', label = 'SVM means + stderr')\n",
    "plt.plot(np.log2(SampleSizes), svm_means - np.array(svm_stderr), 'g--', label = 'SVM means - stderr')\n",
    "\n",
    "plt.plot(np.log2(SampleSizes), RF_means, 'b', label = 'RF means')\n",
    "plt.plot(np.log2(SampleSizes), RF_means + np.array(RF_stderr), 'b+-', label = 'RF means + stderr')\n",
    "plt.plot(np.log2(SampleSizes), RF_means - np.array(RF_stderr), 'b--', label = 'RF means - stderr')\n",
    "\n",
    "plt.plot(np.log2(SampleSizes), KNN_means, 'm', label = 'KNN means')\n",
    "plt.plot(np.log2(SampleSizes), KNN_means + np.array(KNN_stderr), 'm+-', label = 'KNN means + stderr')\n",
    "plt.plot(np.log2(SampleSizes), KNN_means - np.array(KNN_stderr), 'm--', label = 'KNN means - stderr')\n",
    "\n",
    "plt.legend(bbox_to_anchor=(1.20, 0.5),loc = 10)\n",
    "plt.xlabel('Log2(Sample Sizes)')\n",
    "plt.ylabel('roc_auc_score')"
   ]
  }
 ],
 "metadata": {
  "kernelspec": {
   "display_name": "Python 3",
   "language": "python",
   "name": "python3"
  },
  "language_info": {
   "codemirror_mode": {
    "name": "ipython",
    "version": 3
   },
   "file_extension": ".py",
   "mimetype": "text/x-python",
   "name": "python",
   "nbconvert_exporter": "python",
   "pygments_lexer": "ipython3",
   "version": "3.7.0"
  }
 },
 "nbformat": 4,
 "nbformat_minor": 2
}
