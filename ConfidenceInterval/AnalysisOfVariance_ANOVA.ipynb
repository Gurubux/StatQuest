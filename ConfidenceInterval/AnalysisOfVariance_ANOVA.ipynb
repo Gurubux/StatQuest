{
  "nbformat": 4,
  "nbformat_minor": 0,
  "metadata": {
    "colab": {
      "name": "AnalysisOfVariance-ANOVA.ipynb",
      "version": "0.3.2",
      "provenance": [],
      "collapsed_sections": []
    },
    "kernelspec": {
      "name": "python3",
      "display_name": "Python 3"
    }
  },
  "cells": [
    {
      "cell_type": "code",
      "metadata": {
        "id": "Uzf6XEJKKYaL",
        "colab_type": "code",
        "colab": {}
      },
      "source": [
        "import numpy as np\n",
        "import pandas as pd\n",
        "import matplotlib.pyplot as plt\n",
        "import scipy.stats as stats"
      ],
      "execution_count": 0,
      "outputs": []
    },
    {
      "cell_type": "markdown",
      "metadata": {
        "id": "eF1M_gTuOnvC",
        "colab_type": "text"
      },
      "source": [
        "## One-Way ANOVA"
      ]
    },
    {
      "cell_type": "code",
      "metadata": {
        "id": "2noT09qlOWBo",
        "colab_type": "code",
        "colab": {
          "base_uri": "https://localhost:8080/",
          "height": 561
        },
        "outputId": "22aff293-2b62-4cfe-f811-747c7d18c286"
      },
      "source": [
        "np.random.seed(12)\n",
        "\n",
        "races =   [\"asian\",\"black\",\"hispanic\",\"other\",\"white\"]\n",
        "\n",
        "# Generate random data\n",
        "voter_race = np.random.choice(a= races,\n",
        "                              p = [0.05, 0.15 ,0.25, 0.05, 0.5],\n",
        "                              size=1000)\n",
        "\n",
        "voter_age = stats.poisson.rvs(loc=18,\n",
        "                              mu=30,\n",
        "                              size=1000)\n",
        "# Group age data by race\n",
        "voter_frame = pd.DataFrame({\"race\":voter_race,\"age\":voter_age})\n",
        "groups = voter_frame.groupby(\"race\").groups\n",
        "print(voter_frame.head())\n",
        "print(groups)\n",
        "print(groups[\"asian\"])\n",
        "print(voter_age[groups[\"asian\"]])\n",
        "# Etract individual groups\n",
        "asian = voter_age[groups[\"asian\"]]\n",
        "black = voter_age[groups[\"black\"]]\n",
        "hispanic = voter_age[groups[\"hispanic\"]]\n",
        "other = voter_age[groups[\"other\"]]\n",
        "white = voter_age[groups[\"white\"]]\n",
        "\n",
        "# Perform the ANOVA\n",
        "stats.f_oneway(asian, black, hispanic, other, white)"
      ],
      "execution_count": 26,
      "outputs": [
        {
          "output_type": "stream",
          "text": [
            "       race  age\n",
            "0     black   51\n",
            "1     white   49\n",
            "2  hispanic   51\n",
            "3     white   48\n",
            "4     asian   56\n",
            "{'asian': Int64Index([  4,   7,  14,  21,  49,  53,  59,  78,  95,  98, 135, 136, 162,\n",
            "            203, 227, 264, 278, 289, 326, 335, 345, 373, 430, 480, 484, 491,\n",
            "            516, 587, 602, 684, 692, 708, 715, 761, 776, 826, 828, 832, 853,\n",
            "            897, 942, 951, 986, 996],\n",
            "           dtype='int64'), 'black': Int64Index([  0,   9,  19,  22,  23,  42,  50,  56,  62,  76,\n",
            "            ...\n",
            "            948, 956, 961, 965, 968, 972, 982, 984, 989, 990],\n",
            "           dtype='int64', length=147), 'hispanic': Int64Index([  2,  10,  24,  28,  31,  32,  38,  40,  44,  45,\n",
            "            ...\n",
            "            954, 955, 958, 959, 962, 964, 966, 974, 994, 999],\n",
            "           dtype='int64', length=244), 'other': Int64Index([ 17,  26,  39,  46,  48,  65,  67,  72, 146, 237, 246, 255, 284,\n",
            "            302, 317, 322, 358, 370, 386, 413, 425, 446, 530, 542, 569, 571,\n",
            "            573, 575, 583, 626, 629, 637, 662, 696, 700, 701, 728, 739, 756,\n",
            "            757, 773, 813, 819, 880, 923, 936, 939, 971, 980, 992],\n",
            "           dtype='int64'), 'white': Int64Index([  1,   3,   5,   6,   8,  11,  12,  13,  15,  16,\n",
            "            ...\n",
            "            981, 983, 985, 987, 988, 991, 993, 995, 997, 998],\n",
            "           dtype='int64', length=515)}\n",
            "Int64Index([  4,   7,  14,  21,  49,  53,  59,  78,  95,  98, 135, 136, 162,\n",
            "            203, 227, 264, 278, 289, 326, 335, 345, 373, 430, 480, 484, 491,\n",
            "            516, 587, 602, 684, 692, 708, 715, 761, 776, 826, 828, 832, 853,\n",
            "            897, 942, 951, 986, 996],\n",
            "           dtype='int64')\n",
            "[56 52 37 50 53 47 56 43 46 54 45 54 42 44 55 50 45 49 51 57 56 46 43 53\n",
            " 48 54 54 44 40 46 51 52 44 54 43 44 53 42 54 44 59 47 54 40]\n"
          ],
          "name": "stdout"
        },
        {
          "output_type": "execute_result",
          "data": {
            "text/plain": [
              "F_onewayResult(statistic=1.7744689357329695, pvalue=0.13173183201930463)"
            ]
          },
          "metadata": {
            "tags": []
          },
          "execution_count": 26
        }
      ]
    },
    {
      "cell_type": "code",
      "metadata": {
        "id": "eL7Lt73Ba2qL",
        "colab_type": "code",
        "colab": {
          "base_uri": "https://localhost:8080/",
          "height": 317
        },
        "outputId": "f557b6f1-7ef1-482a-87a1-e48eb50610f8"
      },
      "source": [
        "voter_frame.race.value_counts().plot(kind='bar')"
      ],
      "execution_count": 27,
      "outputs": [
        {
          "output_type": "execute_result",
          "data": {
            "text/plain": [
              "<matplotlib.axes._subplots.AxesSubplot at 0x7fdbdf647cf8>"
            ]
          },
          "metadata": {
            "tags": []
          },
          "execution_count": 27
        },
        {
          "output_type": "display_data",
          "data": {
            "image/png": "[encoded data removed]",
            "text/plain": [
              "<Figure size 432x288 with 1 Axes>"
            ]
          },
          "metadata": {
            "tags": []
          }
        }
      ]
    },
    {
      "cell_type": "code",
      "metadata": {
        "id": "LJBvNoria4uD",
        "colab_type": "code",
        "colab": {
          "base_uri": "https://localhost:8080/",
          "height": 289
        },
        "outputId": "50054438-0bd5-48c5-eecb-ea1530f62b70"
      },
      "source": [
        "voter_frame.age.value_counts().plot(kind='bar')"
      ],
      "execution_count": 28,
      "outputs": [
        {
          "output_type": "execute_result",
          "data": {
            "text/plain": [
              "<matplotlib.axes._subplots.AxesSubplot at 0x7fdbdcd18b38>"
            ]
          },
          "metadata": {
            "tags": []
          },
          "execution_count": 28
        },
        {
          "output_type": "display_data",
          "data": {
            "image/png": "[encoded data removed]",
            "text/plain": [
              "<Figure size 432x288 with 1 Axes>"
            ]
          },
          "metadata": {
            "tags": []
          }
        }
      ]
    },
    {
      "cell_type": "code",
      "metadata": {
        "id": "U3DTlxoNObh6",
        "colab_type": "code",
        "colab": {
          "base_uri": "https://localhost:8080/",
          "height": 34
        },
        "outputId": "1a26c8d1-dd0c-4bd6-cf40-5e8b40a4864e"
      },
      "source": [
        "np.random.seed(12)\n",
        "\n",
        "# Generate random data\n",
        "voter_race = np.random.choice(a= races,\n",
        "                              p = [0.05, 0.15 ,0.25, 0.05, 0.5],\n",
        "                              size=1000)\n",
        "\n",
        "# Use a different distribution for white ages\n",
        "white_ages = stats.poisson.rvs(loc=18, \n",
        "                              mu=32,\n",
        "                              size=1000)\n",
        "\n",
        "voter_age = stats.poisson.rvs(loc=18,\n",
        "                              mu=30,\n",
        "                              size=1000)\n",
        "\n",
        "voter_age = np.where(voter_race==\"white\", white_ages, voter_age)\n",
        "\n",
        "# Group age data by race\n",
        "voter_frame = pd.DataFrame({\"race\":voter_race,\"age\":voter_age})\n",
        "groups = voter_frame.groupby(\"race\").groups   \n",
        "\n",
        "# Extract individual groups\n",
        "asian = voter_age[groups[\"asian\"]]\n",
        "black = voter_age[groups[\"black\"]]\n",
        "hispanic = voter_age[groups[\"hispanic\"]]\n",
        "other = voter_age[groups[\"other\"]]\n",
        "white = voter_age[groups[\"white\"]]\n",
        "\n",
        "# Perform the ANOVA\n",
        "stats.f_oneway(asian, black, hispanic, other, white)"
      ],
      "execution_count": 42,
      "outputs": [
        {
          "output_type": "execute_result",
          "data": {
            "text/plain": [
              "F_onewayResult(statistic=10.164699828386366, pvalue=4.5613242113994585e-08)"
            ]
          },
          "metadata": {
            "tags": []
          },
          "execution_count": 42
        }
      ]
    },
    {
      "cell_type": "code",
      "metadata": {
        "id": "U2qPb0Hpc1gy",
        "colab_type": "code",
        "colab": {
          "base_uri": "https://localhost:8080/",
          "height": 449
        },
        "outputId": "2e82e054-0573-47b4-f68a-58cc92ee7e2d"
      },
      "source": [
        "import seaborn as sns\n",
        "f, axes = plt.subplots(3, 2, figsize=(7, 7), sharex=True)\n",
        "sns.distplot( asian , color=\"skyblue\", ax=axes[0, 0])\n",
        "sns.distplot( black , color=\"olive\", ax=axes[0, 1])\n",
        "sns.distplot( hispanic , color=\"gold\", ax=axes[1, 0])\n",
        "sns.distplot( white , color=\"red\", ax=axes[1, 1])\n",
        "sns.distplot( other , color=\"green\", ax=axes[2, 1])"
      ],
      "execution_count": 39,
      "outputs": [
        {
          "output_type": "execute_result",
          "data": {
            "text/plain": [
              "<matplotlib.axes._subplots.AxesSubplot at 0x7fdbd97c8b00>"
            ]
          },
          "metadata": {
            "tags": []
          },
          "execution_count": 39
        },
        {
          "output_type": "display_data",
          "data": {
            "image/png": "[encoded data removed]",
            "text/plain": [
              "<Figure size 504x504 with 6 Axes>"
            ]
          },
          "metadata": {
            "tags": []
          }
        }
      ]
    },
    {
      "cell_type": "code",
      "metadata": {
        "id": "7t10_u9Ub5y5",
        "colab_type": "code",
        "colab": {
          "base_uri": "https://localhost:8080/",
          "height": 317
        },
        "outputId": "527a8ddd-903c-4a69-ecf0-74ce7190b779"
      },
      "source": [
        "voter_frame.race.value_counts().plot(kind='bar')"
      ],
      "execution_count": 30,
      "outputs": [
        {
          "output_type": "execute_result",
          "data": {
            "text/plain": [
              "<matplotlib.axes._subplots.AxesSubplot at 0x7fdbdcbcea90>"
            ]
          },
          "metadata": {
            "tags": []
          },
          "execution_count": 30
        },
        {
          "output_type": "display_data",
          "data": {
            "image/png": "[encoded data removed]",
            "text/plain": [
              "<Figure size 432x288 with 1 Axes>"
            ]
          },
          "metadata": {
            "tags": []
          }
        }
      ]
    },
    {
      "cell_type": "code",
      "metadata": {
        "id": "e8KB1jvpb7Qx",
        "colab_type": "code",
        "colab": {
          "base_uri": "https://localhost:8080/",
          "height": 289
        },
        "outputId": "faca3a24-b3ba-4dbf-aeb3-a9e62df5219f"
      },
      "source": [
        "voter_frame.age.value_counts().plot(kind='bar')"
      ],
      "execution_count": 31,
      "outputs": [
        {
          "output_type": "execute_result",
          "data": {
            "text/plain": [
              "<matplotlib.axes._subplots.AxesSubplot at 0x7fdbdca6e6d8>"
            ]
          },
          "metadata": {
            "tags": []
          },
          "execution_count": 31
        },
        {
          "output_type": "display_data",
          "data": {
            "image/png": "[encoded data removed]",
            "text/plain": [
              "<Figure size 432x288 with 1 Axes>"
            ]
          },
          "metadata": {
            "tags": []
          }
        }
      ]
    },
    {
      "cell_type": "code",
      "metadata": {
        "id": "A64A7voeOeLK",
        "colab_type": "code",
        "colab": {
          "base_uri": "https://localhost:8080/",
          "height": 357
        },
        "outputId": "59033372-98e5-49b3-8acd-9ab5a018c564"
      },
      "source": [
        "# Get all race pairs\n",
        "race_pairs = []\n",
        "\n",
        "for race1 in range(4):\n",
        "    for race2  in range(race1+1,5):\n",
        "        race_pairs.append((races[race1], races[race2]))\n",
        "\n",
        "# Conduct t-test on each pair\n",
        "for race1, race2 in race_pairs: \n",
        "    print(race1, race2)\n",
        "    print(stats.ttest_ind(voter_age[groups[race1]], \n",
        "                          voter_age[groups[race2]]))    "
      ],
      "execution_count": 32,
      "outputs": [
        {
          "output_type": "stream",
          "text": [
            "asian black\n",
            "Ttest_indResult(statistic=0.838644690974798, pvalue=0.4027281369339345)\n",
            "asian hispanic\n",
            "Ttest_indResult(statistic=-0.42594691924932293, pvalue=0.6704669004240726)\n",
            "asian other\n",
            "Ttest_indResult(statistic=0.9795284739636, pvalue=0.3298877500095151)\n",
            "asian white\n",
            "Ttest_indResult(statistic=-2.318108811252288, pvalue=0.020804701566400217)\n",
            "black hispanic\n",
            "Ttest_indResult(statistic=-1.9527839210712925, pvalue=0.05156197171952594)\n",
            "black other\n",
            "Ttest_indResult(statistic=0.28025754367057176, pvalue=0.7795770111117659)\n",
            "black white\n",
            "Ttest_indResult(statistic=-5.379303881281835, pvalue=1.039421216662395e-07)\n",
            "hispanic other\n",
            "Ttest_indResult(statistic=1.5853626170340225, pvalue=0.11396630528484335)\n",
            "hispanic white\n",
            "Ttest_indResult(statistic=-3.5160312714115376, pvalue=0.0004641298649066684)\n",
            "other white\n",
            "Ttest_indResult(statistic=-3.763809322077872, pvalue=0.00018490576317593065)\n"
          ],
          "name": "stdout"
        }
      ]
    },
    {
      "cell_type": "code",
      "metadata": {
        "id": "H7SB5XblOiBC",
        "colab_type": "code",
        "colab": {
          "base_uri": "https://localhost:8080/",
          "height": 657
        },
        "outputId": "83cdb0ba-762a-4bad-f8d1-f985f2607848"
      },
      "source": [
        "from statsmodels.stats.multicomp import pairwise_tukeyhsd\n",
        "\n",
        "tukey = pairwise_tukeyhsd(endog=voter_age,     # Data\n",
        "                          groups=voter_race,   # Groups\n",
        "                          alpha=0.05)          # Significance level\n",
        "\n",
        "tukey.plot_simultaneous()    # Plot group confidence intervals\n",
        "plt.vlines(x=49.57,ymin=-0.5,ymax=4.5, color=\"red\")\n",
        "\n",
        "tukey.summary()              # See test summary"
      ],
      "execution_count": 43,
      "outputs": [
        {
          "output_type": "execute_result",
          "data": {
            "text/html": [
              "<table class=\"simpletable\">\n",
              "<caption>Multiple Comparison of Means - Tukey HSD,FWER=0.05</caption>\n",
              "<tr>\n",
              "   <th>group1</th>   <th>group2</th>  <th>meandiff</th>  <th>lower</th>   <th>upper</th> <th>reject</th>\n",
              "</tr>\n",
              "<tr>\n",
              "    <td>asian</td>    <td>black</td>   <td>-0.8032</td> <td>-3.4423</td>  <td>1.836</td>  <td>False</td>\n",
              "</tr>\n",
              "<tr>\n",
              "    <td>asian</td>  <td>hispanic</td>  <td>0.4143</td>  <td>-2.1011</td> <td>2.9297</td>  <td>False</td>\n",
              "</tr>\n",
              "<tr>\n",
              "    <td>asian</td>    <td>other</td>   <td>-1.0645</td> <td>-4.2391</td>  <td>2.11</td>   <td>False</td>\n",
              "</tr>\n",
              "<tr>\n",
              "    <td>asian</td>    <td>white</td>   <td>1.9547</td>  <td>-0.4575</td> <td>4.3668</td>  <td>False</td>\n",
              "</tr>\n",
              "<tr>\n",
              "    <td>black</td>  <td>hispanic</td>  <td>1.2175</td>  <td>-0.386</td>   <td>2.821</td>  <td>False</td>\n",
              "</tr>\n",
              "<tr>\n",
              "    <td>black</td>    <td>other</td>   <td>-0.2614</td> <td>-2.7757</td>  <td>2.253</td>  <td>False</td>\n",
              "</tr>\n",
              "<tr>\n",
              "    <td>black</td>    <td>white</td>   <td>2.7579</td>  <td>1.3217</td>   <td>4.194</td>  <td>True</td> \n",
              "</tr>\n",
              "<tr>\n",
              "  <td>hispanic</td>   <td>other</td>   <td>-1.4789</td> <td>-3.863</td>  <td>0.9053</td>  <td>False</td>\n",
              "</tr>\n",
              "<tr>\n",
              "  <td>hispanic</td>   <td>white</td>   <td>1.5404</td>  <td>0.3468</td>   <td>2.734</td>  <td>True</td> \n",
              "</tr>\n",
              "<tr>\n",
              "    <td>other</td>    <td>white</td>   <td>3.0192</td>  <td>0.7443</td>  <td>5.2941</td>  <td>True</td> \n",
              "</tr>\n",
              "</table>"
            ],
            "text/plain": [
              "<class 'statsmodels.iolib.table.SimpleTable'>"
            ]
          },
          "metadata": {
            "tags": []
          },
          "execution_count": 43
        },
        {
          "output_type": "display_data",
          "data": {
            "image/png": "[encoded data removed]",
            "text/plain": [
              "<Figure size 720x432 with 1 Axes>"
            ]
          },
          "metadata": {
            "tags": []
          }
        }
      ]
    }
  ]
}