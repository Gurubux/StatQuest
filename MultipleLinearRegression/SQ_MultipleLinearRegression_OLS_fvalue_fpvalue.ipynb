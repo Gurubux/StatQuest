{
  "nbformat": 4,
  "nbformat_minor": 0,
  "metadata": {
    "colab": {
      "name": "SQ_MultipleLinearRegression_OLS_fvalue_fpvalue.ipynb",
      "version": "0.3.2",
      "provenance": [],
      "collapsed_sections": []
    },
    "kernelspec": {
      "name": "python3",
      "display_name": "Python 3"
    }
  },
  "cells": [
    {
      "cell_type": "code",
      "metadata": {
        "id": "Z8HvRtcu7AQY",
        "colab_type": "code",
        "colab": {
          "base_uri": "https://localhost:8080/",
          "height": 292
        },
        "outputId": "a14834d5-7ba7-401d-cf17-96a648e733f9"
      },
      "source": [
        "!pip install scipy==1.2"
      ],
      "execution_count": 2,
      "outputs": [
        {
          "output_type": "stream",
          "text": [
            "Collecting scipy==1.2\n",
            "\u001b[?25l  Downloading https://files.pythonhosted.org/packages/67/e6/6d4edaceee6a110ecf6f318482f5229792f143e468b34a631f5a0899f56d/scipy-1.2.0-cp36-cp36m-manylinux1_x86_64.whl (26.6MB)\n",
            "\u001b[K     |████████████████████████████████| 26.6MB 1.3MB/s \n",
            "\u001b[?25hRequirement already satisfied: numpy>=1.8.2 in /usr/local/lib/python3.6/dist-packages (from scipy==1.2) (1.16.4)\n",
            "\u001b[31mERROR: albumentations 0.1.12 has requirement imgaug<0.2.7,>=0.2.5, but you'll have imgaug 0.2.9 which is incompatible.\u001b[0m\n",
            "Installing collected packages: scipy\n",
            "  Found existing installation: scipy 1.3.0\n",
            "    Uninstalling scipy-1.3.0:\n",
            "      Successfully uninstalled scipy-1.3.0\n",
            "Successfully installed scipy-1.2.0\n"
          ],
          "name": "stdout"
        },
        {
          "output_type": "display_data",
          "data": {
            "application/vnd.colab-display-data+json": {
              "pip_warning": {
                "packages": [
                  "scipy"
                ]
              }
            }
          },
          "metadata": {
            "tags": []
          }
        }
      ]
    },
    {
      "cell_type": "code",
      "metadata": {
        "id": "1KrogZB36w2f",
        "colab_type": "code",
        "colab": {
          "base_uri": "https://localhost:8080/",
          "height": 3964
        },
        "outputId": "3e705542-ea3e-4e02-9147-e50b43b4a725"
      },
      "source": [
        "# -*- coding: utf-8 -*-\n",
        "\"\"\"\n",
        "Created on Mon May 20 18:42:39 2019\n",
        "\n",
        "@author: Guru\n",
        "\n",
        "https://seaborn.pydata.org/tutorial/regression.html\n",
        "\"\"\"\n",
        "\n",
        "## Here's the data\n",
        "import numpy as np\n",
        "import pandas as pd\n",
        "from plotly.offline import download_plotlyjs, init_notebook_mode,  plot\n",
        "from plotly.graph_objs import *\n",
        "from sklearn.linear_model  import LinearRegression\n",
        "import statsmodels.api as sm\n",
        "import seaborn as sns\n",
        "from scipy import stats\n",
        "import matplotlib.pyplot as plt\n",
        "## Here's the data from the example:\n",
        "mouse = pd.DataFrame({\"weight\":[0.9, 1.8, 2.4, 3.5, 3.9, 4.4, 5.1, 5.6, 6.3],\n",
        "  \"sizes\":[1.4, 2.6, 1.0, 3.7, 5.5, 3.2, 3.0, 4.9, 6.3],\n",
        "   \"tail\" :[0.7, 1.3, 0.7, 2.0, 3.6, 3.0, 2.9, 3.9, 4.0]})\n",
        "print(mouse)\n",
        "\n",
        "#######################################################\n",
        "##\n",
        "## Let's start by reviewing simple regression by \n",
        "## modeling mouse size with mouse weight.\n",
        "##\n",
        "#######################################################\n",
        "\n",
        "## STEP 1: Draw a graph of the data to make sure the relationship make sense\n",
        "#Plotting Scatter Matrix using pandas\n",
        "\n",
        "\n",
        "trace0 = Scatter(\n",
        "    x=mouse.weight,\n",
        "    y=mouse.sizes,\n",
        "    mode='markers')\n",
        "\n",
        "\n",
        "## STEP 2: Do the regression\n",
        "X2 = sm.add_constant(mouse.iloc[:,0:1].values)\n",
        "est = sm.OLS(mouse.iloc[:,1].values, X2)\n",
        "est2  = est.fit()\n",
        "\n",
        "\n",
        "## STEP 3: Look at the R^2, F-value and p-value\n",
        "print(est2.rsquared,est2.pvalues)\n",
        "\n",
        "\n",
        "# Plot using plotly\n",
        "# add the regression line to our x/y scatter plot\n",
        "trace2 = Scatter(\n",
        "    x = mouse.weight,\n",
        "    y = est2.predict(X2)\n",
        ")\n",
        "\n",
        "\n",
        "data = [trace0,trace2]\n",
        "\n",
        "layout = Layout(\n",
        "    showlegend=True,\n",
        "    height=600,\n",
        "    width=600,\n",
        ")\n",
        "\n",
        "fig = dict( data=data, layout=layout )\n",
        "#plot(fig)\n",
        "\n",
        "\n",
        "sns.lmplot(x=\"weight\", y=\"sizes\", data=mouse);\n",
        "\n",
        "\n",
        "# Plot using Seaborn\n",
        "#Plotting Scatter Matrix using seaborn\n",
        "\n",
        "\"\"\"sns.set()\n",
        "sns.pairplot(mouse)\n",
        "#Plotting Scatter Matrix using pandas\n",
        "pd.plotting.scatter_matrix(mouse); \n",
        "plt.show()\"\"\"\n",
        "\n",
        "# cumulative distribution function\n",
        "from scipy.stats import f, norm\n",
        "def plot_f_distrubiton(fvalue,dfn,dfd):\n",
        "    # Set figure \n",
        "    plt.figure(figsize=(8, 6))\n",
        "    \n",
        "    # Set degrees of freedom\n",
        "    \n",
        "    rejection_reg = f.ppf(q=.95, dfn=dfn, dfd=dfd)\n",
        "    mean, var, skew, kurt = f.stats(dfn, dfd, moments='mvsk')\n",
        "    \n",
        "    x = np.linspace(f.ppf(0.01, dfn, dfd), \n",
        "                    f.ppf(0.99, dfn, dfd), 100)\n",
        "    \n",
        "    # Plot values\n",
        "    plt.plot(x, f.pdf(x, dfn, dfd), alpha=0.6, \n",
        "             label=' X ~ F({}, {})'.format(dfn, dfd))\n",
        "    plt.axvline(x=fvalue)\n",
        "    plt.vlines(rejection_reg, 0.0, 1.0, \n",
        "               linestyles=\"dashdot\", label=\"Crit. Value: {:.2f}\".format(rejection_reg))\n",
        "    plt.legend()\n",
        "    plt.ylim(0.0, 1.0)\n",
        "    plt.xlim(0.0, 20.0,5)\n",
        "    plt.title('F-Distribution dfn:{}, dfd:{}'.format(dfn, dfd))\n",
        "    \n",
        "plot_f_distrubiton(est2.fvalue,1,7);\n",
        "\n",
        "from sklearn.metrics import r2_score\n",
        "print(\"r2_score\",r2_score(mouse.sizes,est2.predict(X2)))\n",
        "print(\"fvalue\",est2.fvalue)\n",
        "print(\"f_pvalue\",est2.f_pvalue)\n",
        "\n",
        "print(stats.f.cdf(est2.fvalue,1,7))\n",
        "print(1-stats.f.cdf(est2.fvalue,1,7))\n",
        "ss_mean = sum((mouse.sizes - np.mean(mouse.sizes))**2)\n",
        "ss_simple = sum((mouse.sizes - est2.fittedvalues)**2)\n",
        "f_simple = ((ss_mean - ss_simple) / (2 - 1))/ (ss_simple/ (len(mouse) - 2))\n",
        "print(1-stats.f.cdf(f_simple,1,7))\n",
        "print(est2.summary())\n",
        "\n",
        "#######################################################\n",
        "##\n",
        "## Now let's do multiple regression by adding an extra term, tail length\n",
        "##\n",
        "#######################################################\n",
        "\n",
        "## STEP 1: Draw a graph of the data to make sure the relationship make sense\n",
        "## This graph is more complex because it shows the relationships between all\n",
        "## of the columns in \"mouse.data\".\n",
        "pd.plotting.scatter_matrix(mouse); \n",
        "plt.show()\n",
        "\n",
        "sns.set()\n",
        "sns.pairplot(mouse)\n",
        "\n",
        "#plot(mouse.data)\n",
        "\n",
        "## STEP 2: Do the regression\n",
        "\n",
        "X2 = mouse[['weight', 'tail']]\n",
        "y = mouse['sizes']\n",
        "X2 = sm.add_constant(X2)\n",
        "est = sm.OLS(y, X2).fit()\n",
        "\n",
        "print(\"r2_score,pvalues\",est.rsquared,est.pvalues)\n",
        "\n",
        "\n",
        "print(\"r2_score\",r2_score(mouse.sizes,est.predict(X2)))\n",
        "print(\"fvalue\",est.fvalue)\n",
        "print(\"f_pvalue\",est.f_pvalue)\n",
        "\n",
        "plot_f_distrubiton(est.fvalue,2,6);\n",
        "\n",
        "print(stats.f.cdf(est.fvalue,2,6))\n",
        "print(\"f_pvalue\",1-stats.f.cdf(est.fvalue,2,6))\n",
        "\n",
        "\n",
        "## lastly, let's compare this p-value to the one from the \n",
        "## original regression\n",
        "\n",
        "\n",
        "#ss_mean = sum((mouse.sizes - np.mean(mouse.sizes))**2)\n",
        "ss_multiple = sum((mouse.sizes - est.fittedvalues)**2)\n",
        "\n",
        "f_multiple = ((ss_mean - ss_multiple) / (len(est.params) - 1)) / (ss_multiple / (len(mouse) - len(est.params)))\n",
        "print(est.summary())\n",
        "\n",
        "## we can also verify that the F-value is what we think it is\n",
        "\n",
        "\n",
        "#######################################################\n",
        "##\n",
        "## Now, let's see if \"tail\" makes a significant controbution by \n",
        "## comparing the \"simple\" fit (which does not include the tail data) \n",
        "## to the \"multiple\" fit (which has the extra term for the tail data)\n",
        "##\n",
        "#######################################################\n",
        "\n",
        "f_simple_v_multiple =  ((ss_simple - ss_multiple) / (len(est.params)-2)) / (ss_multiple / (len(mouse) - len(est.params)))\n",
        "\n",
        "print(f_simple_v_multiple)\n",
        "print(1-stats.f.cdf(f_simple_v_multiple,1,6))\n",
        "\n",
        "\n",
        "## Notice that this value is the same as the p-value next to the term for\n",
        "## for \"tail\" in the summary of multiple regression:\n",
        "print(est.summary())\n",
        "\n",
        "## Thus, the summary already calculated this F-value and p-value for us.\n",
        "## this line tells us that including the \"tail\" term makes a statistically\n",
        "## significant difference. The magnitude can be determined by looking\n",
        "## at the change in R^2 between the simple and multiple regressions."
      ],
      "execution_count": 2,
      "outputs": [
        {
          "output_type": "stream",
          "text": [
            "   weight  sizes  tail\n",
            "0     0.9    1.4   0.7\n",
            "1     1.8    2.6   1.3\n",
            "2     2.4    1.0   0.7\n",
            "3     3.5    3.7   2.0\n",
            "4     3.9    5.5   3.6\n",
            "5     4.4    3.2   3.0\n",
            "6     5.1    3.0   2.9\n",
            "7     5.6    4.9   3.9\n",
            "8     6.3    6.3   4.0\n",
            "0.6132867420657665 [0.56578391 0.01255906]\n",
            "r2_score 0.6132867420657665\n",
            "fvalue 11.101267169874111\n",
            "f_pvalue 0.012559062326425313\n",
            "0.9874409376735747\n",
            "0.012559062326425341\n",
            "0.012559062326425341\n",
            "                            OLS Regression Results                            \n",
            "==============================================================================\n",
            "Dep. Variable:                      y   R-squared:                       0.613\n",
            "Model:                            OLS   Adj. R-squared:                  0.558\n",
            "Method:                 Least Squares   F-statistic:                     11.10\n",
            "Date:                Mon, 10 Jun 2019   Prob (F-statistic):             0.0126\n",
            "Time:                        05:49:38   Log-Likelihood:                -13.208\n",
            "No. Observations:                   9   AIC:                             30.42\n",
            "Df Residuals:                       7   BIC:                             30.81\n",
            "Df Model:                           1                                         \n",
            "Covariance Type:            nonrobust                                         \n",
            "==============================================================================\n",
            "                 coef    std err          t      P>|t|      [0.025      0.975]\n",
            "------------------------------------------------------------------------------\n",
            "const          0.5813      0.965      0.603      0.566      -1.700       2.862\n",
            "x1             0.7778      0.233      3.332      0.013       0.226       1.330\n",
            "==============================================================================\n",
            "Omnibus:                        0.025   Durbin-Watson:                   2.111\n",
            "Prob(Omnibus):                  0.988   Jarque-Bera (JB):                0.254\n",
            "Skew:                           0.027   Prob(JB):                        0.881\n",
            "Kurtosis:                       2.178   Cond. No.                         10.5\n",
            "==============================================================================\n",
            "\n",
            "Warnings:\n",
            "[1] Standard Errors assume that the covariance matrix of the errors is correctly specified.\n"
          ],
          "name": "stdout"
        },
        {
          "output_type": "stream",
          "text": [
            "/usr/local/lib/python3.6/dist-packages/scipy/stats/stats.py:1416: UserWarning:\n",
            "\n",
            "kurtosistest only valid for n>=20 ... continuing anyway, n=9\n",
            "\n"
          ],
          "name": "stderr"
        },
        {
          "output_type": "display_data",
          "data": {
            "image/png": "[encoded data removed]",
            "text/plain": [
              "<Figure size 360x360 with 1 Axes>"
            ]
          },
          "metadata": {
            "tags": []
          }
        },
        {
          "output_type": "display_data",
          "data": {
            "image/png": "[encoded data removed]",
            "text/plain": [
              "<Figure size 576x432 with 1 Axes>"
            ]
          },
          "metadata": {
            "tags": []
          }
        },
        {
          "output_type": "display_data",
          "data": {
            "image/png": "[encoded data removed]",
            "text/plain": [
              "<Figure size 432x288 with 9 Axes>"
            ]
          },
          "metadata": {
            "tags": []
          }
        },
        {
          "output_type": "stream",
          "text": [
            "/usr/local/lib/python3.6/dist-packages/numpy/core/fromnumeric.py:2389: FutureWarning:\n",
            "\n",
            "Method .ptp is deprecated and will be removed in a future version. Use numpy.ptp instead.\n",
            "\n",
            "/usr/local/lib/python3.6/dist-packages/scipy/stats/stats.py:1416: UserWarning:\n",
            "\n",
            "kurtosistest only valid for n>=20 ... continuing anyway, n=9\n",
            "\n",
            "/usr/local/lib/python3.6/dist-packages/scipy/stats/stats.py:1416: UserWarning:\n",
            "\n",
            "kurtosistest only valid for n>=20 ... continuing anyway, n=9\n",
            "\n"
          ],
          "name": "stderr"
        },
        {
          "output_type": "stream",
          "text": [
            "r2_score,pvalues 0.8496437693322927 const     0.319163\n",
            "weight    0.434519\n",
            "tail      0.021910\n",
            "dtype: float64\n",
            "r2_score 0.8496437693322927\n",
            "fvalue 16.95261511064419\n",
            "f_pvalue 0.003399102720405895\n",
            "0.9966008972795941\n",
            "f_pvalue 0.003399102720405889\n",
            "                            OLS Regression Results                            \n",
            "==============================================================================\n",
            "Dep. Variable:                  sizes   R-squared:                       0.850\n",
            "Model:                            OLS   Adj. R-squared:                  0.800\n",
            "Method:                 Least Squares   F-statistic:                     16.95\n",
            "Date:                Mon, 10 Jun 2019   Prob (F-statistic):            0.00340\n",
            "Time:                        05:49:40   Log-Likelihood:                -8.9568\n",
            "No. Observations:                   9   AIC:                             23.91\n",
            "Df Residuals:                       6   BIC:                             24.51\n",
            "Df Model:                           2                                         \n",
            "Covariance Type:            nonrobust                                         \n",
            "==============================================================================\n",
            "                 coef    std err          t      P>|t|      [0.025      0.975]\n",
            "------------------------------------------------------------------------------\n",
            "const          0.7070      0.651      1.086      0.319      -0.886       2.300\n",
            "weight        -0.3293      0.393     -0.837      0.435      -1.292       0.633\n",
            "tail           1.6470      0.536      3.071      0.022       0.335       2.959\n",
            "==============================================================================\n",
            "Omnibus:                        0.234   Durbin-Watson:                   1.413\n",
            "Prob(Omnibus):                  0.890   Jarque-Bera (JB):                0.388\n",
            "Skew:                           0.134   Prob(JB):                        0.824\n",
            "Kurtosis:                       2.018   Cond. No.                         13.5\n",
            "==============================================================================\n",
            "\n",
            "Warnings:\n",
            "[1] Standard Errors assume that the covariance matrix of the errors is correctly specified.\n",
            "9.43188158749006\n",
            "0.02191013754486648\n",
            "                            OLS Regression Results                            \n",
            "==============================================================================\n",
            "Dep. Variable:                  sizes   R-squared:                       0.850\n",
            "Model:                            OLS   Adj. R-squared:                  0.800\n",
            "Method:                 Least Squares   F-statistic:                     16.95\n",
            "Date:                Mon, 10 Jun 2019   Prob (F-statistic):            0.00340\n",
            "Time:                        05:49:40   Log-Likelihood:                -8.9568\n",
            "No. Observations:                   9   AIC:                             23.91\n",
            "Df Residuals:                       6   BIC:                             24.51\n",
            "Df Model:                           2                                         \n",
            "Covariance Type:            nonrobust                                         \n",
            "==============================================================================\n",
            "                 coef    std err          t      P>|t|      [0.025      0.975]\n",
            "------------------------------------------------------------------------------\n",
            "const          0.7070      0.651      1.086      0.319      -0.886       2.300\n",
            "weight        -0.3293      0.393     -0.837      0.435      -1.292       0.633\n",
            "tail           1.6470      0.536      3.071      0.022       0.335       2.959\n",
            "==============================================================================\n",
            "Omnibus:                        0.234   Durbin-Watson:                   1.413\n",
            "Prob(Omnibus):                  0.890   Jarque-Bera (JB):                0.388\n",
            "Skew:                           0.134   Prob(JB):                        0.824\n",
            "Kurtosis:                       2.018   Cond. No.                         13.5\n",
            "==============================================================================\n",
            "\n",
            "Warnings:\n",
            "[1] Standard Errors assume that the covariance matrix of the errors is correctly specified.\n"
          ],
          "name": "stdout"
        },
        {
          "output_type": "display_data",
          "data": {
            "image/png": "[encoded data removed]",
            "text/plain": [
              "<Figure size 540x540 with 12 Axes>"
            ]
          },
          "metadata": {
            "tags": []
          }
        },
        {
          "output_type": "display_data",
          "data": {
            "image/png": "[encoded data removed]",
            "text/plain": [
              "<Figure size 576x432 with 1 Axes>"
            ]
          },
          "metadata": {
            "tags": []
          }
        }
      ]
    },
    {
      "cell_type": "code",
      "metadata": {
        "id": "HdzPPWn3C7KM",
        "colab_type": "code",
        "colab": {
          "base_uri": "https://localhost:8080/",
          "height": 34
        },
        "outputId": "0fcdd224-b76c-4239-ddd6-56d28ac78b66"
      },
      "source": [
        "mouse.iloc[:,1].values"
      ],
      "execution_count": 3,
      "outputs": [
        {
          "output_type": "execute_result",
          "data": {
            "text/plain": [
              "array([1.4, 2.6, 1. , 3.7, 5.5, 3.2, 3. , 4.9, 6.3])"
            ]
          },
          "metadata": {
            "tags": []
          },
          "execution_count": 3
        }
      ]
    },
    {
      "cell_type": "code",
      "metadata": {
        "id": "U_9YJH_uC-T0",
        "colab_type": "code",
        "colab": {
          "base_uri": "https://localhost:8080/",
          "height": 328
        },
        "outputId": "1a1f8486-81d9-4ccc-88ce-0e0e2d9ba6c2"
      },
      "source": [
        "mouse"
      ],
      "execution_count": 4,
      "outputs": [
        {
          "output_type": "execute_result",
          "data": {
            "text/html": [
              "<div>\n",
              "<style scoped>\n",
              "    .dataframe tbody tr th:only-of-type {\n",
              "        vertical-align: middle;\n",
              "    }\n",
              "\n",
              "    .dataframe tbody tr th {\n",
              "        vertical-align: top;\n",
              "    }\n",
              "\n",
              "    .dataframe thead th {\n",
              "        text-align: right;\n",
              "    }\n",
              "</style>\n",
              "<table border=\"1\" class=\"dataframe\">\n",
              "  <thead>\n",
              "    <tr style=\"text-align: right;\">\n",
              "      <th></th>\n",
              "      <th>weight</th>\n",
              "      <th>sizes</th>\n",
              "      <th>tail</th>\n",
              "    </tr>\n",
              "  </thead>\n",
              "  <tbody>\n",
              "    <tr>\n",
              "      <th>0</th>\n",
              "      <td>0.9</td>\n",
              "      <td>1.4</td>\n",
              "      <td>0.7</td>\n",
              "    </tr>\n",
              "    <tr>\n",
              "      <th>1</th>\n",
              "      <td>1.8</td>\n",
              "      <td>2.6</td>\n",
              "      <td>1.3</td>\n",
              "    </tr>\n",
              "    <tr>\n",
              "      <th>2</th>\n",
              "      <td>2.4</td>\n",
              "      <td>1.0</td>\n",
              "      <td>0.7</td>\n",
              "    </tr>\n",
              "    <tr>\n",
              "      <th>3</th>\n",
              "      <td>3.5</td>\n",
              "      <td>3.7</td>\n",
              "      <td>2.0</td>\n",
              "    </tr>\n",
              "    <tr>\n",
              "      <th>4</th>\n",
              "      <td>3.9</td>\n",
              "      <td>5.5</td>\n",
              "      <td>3.6</td>\n",
              "    </tr>\n",
              "    <tr>\n",
              "      <th>5</th>\n",
              "      <td>4.4</td>\n",
              "      <td>3.2</td>\n",
              "      <td>3.0</td>\n",
              "    </tr>\n",
              "    <tr>\n",
              "      <th>6</th>\n",
              "      <td>5.1</td>\n",
              "      <td>3.0</td>\n",
              "      <td>2.9</td>\n",
              "    </tr>\n",
              "    <tr>\n",
              "      <th>7</th>\n",
              "      <td>5.6</td>\n",
              "      <td>4.9</td>\n",
              "      <td>3.9</td>\n",
              "    </tr>\n",
              "    <tr>\n",
              "      <th>8</th>\n",
              "      <td>6.3</td>\n",
              "      <td>6.3</td>\n",
              "      <td>4.0</td>\n",
              "    </tr>\n",
              "  </tbody>\n",
              "</table>\n",
              "</div>"
            ],
            "text/plain": [
              "   weight  sizes  tail\n",
              "0     0.9    1.4   0.7\n",
              "1     1.8    2.6   1.3\n",
              "2     2.4    1.0   0.7\n",
              "3     3.5    3.7   2.0\n",
              "4     3.9    5.5   3.6\n",
              "5     4.4    3.2   3.0\n",
              "6     5.1    3.0   2.9\n",
              "7     5.6    4.9   3.9\n",
              "8     6.3    6.3   4.0"
            ]
          },
          "metadata": {
            "tags": []
          },
          "execution_count": 4
        }
      ]
    },
    {
      "cell_type": "code",
      "metadata": {
        "id": "UDvEiErcDTlc",
        "colab_type": "code",
        "colab": {
          "base_uri": "https://localhost:8080/",
          "height": 328
        },
        "outputId": "fe14477f-d726-4d9f-82d8-1e7e54ae0802"
      },
      "source": [
        "X2"
      ],
      "execution_count": 5,
      "outputs": [
        {
          "output_type": "execute_result",
          "data": {
            "text/html": [
              "<div>\n",
              "<style scoped>\n",
              "    .dataframe tbody tr th:only-of-type {\n",
              "        vertical-align: middle;\n",
              "    }\n",
              "\n",
              "    .dataframe tbody tr th {\n",
              "        vertical-align: top;\n",
              "    }\n",
              "\n",
              "    .dataframe thead th {\n",
              "        text-align: right;\n",
              "    }\n",
              "</style>\n",
              "<table border=\"1\" class=\"dataframe\">\n",
              "  <thead>\n",
              "    <tr style=\"text-align: right;\">\n",
              "      <th></th>\n",
              "      <th>const</th>\n",
              "      <th>weight</th>\n",
              "      <th>tail</th>\n",
              "    </tr>\n",
              "  </thead>\n",
              "  <tbody>\n",
              "    <tr>\n",
              "      <th>0</th>\n",
              "      <td>1.0</td>\n",
              "      <td>0.9</td>\n",
              "      <td>0.7</td>\n",
              "    </tr>\n",
              "    <tr>\n",
              "      <th>1</th>\n",
              "      <td>1.0</td>\n",
              "      <td>1.8</td>\n",
              "      <td>1.3</td>\n",
              "    </tr>\n",
              "    <tr>\n",
              "      <th>2</th>\n",
              "      <td>1.0</td>\n",
              "      <td>2.4</td>\n",
              "      <td>0.7</td>\n",
              "    </tr>\n",
              "    <tr>\n",
              "      <th>3</th>\n",
              "      <td>1.0</td>\n",
              "      <td>3.5</td>\n",
              "      <td>2.0</td>\n",
              "    </tr>\n",
              "    <tr>\n",
              "      <th>4</th>\n",
              "      <td>1.0</td>\n",
              "      <td>3.9</td>\n",
              "      <td>3.6</td>\n",
              "    </tr>\n",
              "    <tr>\n",
              "      <th>5</th>\n",
              "      <td>1.0</td>\n",
              "      <td>4.4</td>\n",
              "      <td>3.0</td>\n",
              "    </tr>\n",
              "    <tr>\n",
              "      <th>6</th>\n",
              "      <td>1.0</td>\n",
              "      <td>5.1</td>\n",
              "      <td>2.9</td>\n",
              "    </tr>\n",
              "    <tr>\n",
              "      <th>7</th>\n",
              "      <td>1.0</td>\n",
              "      <td>5.6</td>\n",
              "      <td>3.9</td>\n",
              "    </tr>\n",
              "    <tr>\n",
              "      <th>8</th>\n",
              "      <td>1.0</td>\n",
              "      <td>6.3</td>\n",
              "      <td>4.0</td>\n",
              "    </tr>\n",
              "  </tbody>\n",
              "</table>\n",
              "</div>"
            ],
            "text/plain": [
              "   const  weight  tail\n",
              "0    1.0     0.9   0.7\n",
              "1    1.0     1.8   1.3\n",
              "2    1.0     2.4   0.7\n",
              "3    1.0     3.5   2.0\n",
              "4    1.0     3.9   3.6\n",
              "5    1.0     4.4   3.0\n",
              "6    1.0     5.1   2.9\n",
              "7    1.0     5.6   3.9\n",
              "8    1.0     6.3   4.0"
            ]
          },
          "metadata": {
            "tags": []
          },
          "execution_count": 5
        }
      ]
    }
  ]
}