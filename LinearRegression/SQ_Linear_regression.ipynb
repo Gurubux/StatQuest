{
  "nbformat": 4,
  "nbformat_minor": 0,
  "metadata": {
    "colab": {
      "name": "SQ_Linear_regression.ipynb",
      "version": "0.3.2",
      "provenance": []
    },
    "kernelspec": {
      "name": "python3",
      "display_name": "Python 3"
    }
  },
  "cells": [
    {
      "cell_type": "code",
      "metadata": {
        "id": "17nsxEriOZIx",
        "colab_type": "code",
        "colab": {
          "base_uri": "https://localhost:8080/",
          "height": 734
        },
        "outputId": "cef96fea-2cd1-4c03-dd27-2f04d3c82c76"
      },
      "source": [
        "# -*- coding: utf-8 -*-\n",
        "\"\"\"\n",
        "Created on Mon May 20 15:05:05 2019\n",
        "\n",
        "@author: Guru\n",
        "\"\"\"\n",
        "import pandas as pd\n",
        "from plotly.offline import download_plotlyjs, init_notebook_mode,  plot\n",
        "from plotly.graph_objs import *\n",
        "from sklearn.linear_model  import LinearRegression\n",
        "import statsmodels.api as sm\n",
        "## Here's the data from the example:\n",
        "mouse = pd.DataFrame({\"weight\":[0.9, 1.8, 2.4, 3.5, 3.9, 4.4, 5.1, 5.6, 6.3],\n",
        "  \"sizes\":[1.4, 2.6, 1.0, 3.7, 5.5, 3.2, 3.0, 4.9, 6.3]})\n",
        "print(mouse)\n",
        "\n",
        "\n",
        "#init_notebook_mode()\n",
        "\n",
        "## plot a x/y scatter plot with the data\n",
        "trace0 = Scatter(\n",
        "    x=mouse.weight,\n",
        "    y=mouse.sizes,\n",
        "    mode='markers')\n",
        "\n",
        "# create a \"linear model\" - that is, do the regression\n",
        "X2 = sm.add_constant(mouse.iloc[:,0:1].values)\n",
        "est = sm.OLS(mouse.iloc[:,1].values, X2)\n",
        "est2  = est.fit()\n",
        "\n",
        "## generate a summary of the regression\n",
        "print(\"summary()\\n\",est2.summary())\n",
        "\n",
        "\n",
        "\"\"\"\n",
        "# create a \"linear model\" - that is, do the regression\n",
        "lm = LinearRegression()\n",
        "lm.fit(mouse.iloc[:,0:1].values,mouse.iloc[:,1].values)\n",
        "\n",
        "# add the regression line to our x/y scatter plot\n",
        "trace1 = Scatter(\n",
        "    x = mouse.weight,\n",
        "    y = lm.predict(mouse.iloc[:,0:1].values)\n",
        ")\n",
        "\"\"\"\n",
        "# add the regression line to our x/y scatter plot\n",
        "trace2 = Scatter(\n",
        "    x = mouse.weight,\n",
        "    y = est2.predict(X2)\n",
        ")\n",
        "\n",
        "\n",
        "# Plot\n",
        "data = [trace0,trace2]\n",
        "\n",
        "layout = Layout(\n",
        "    showlegend=True,\n",
        "    height=600,\n",
        "    width=600,\n",
        ")\n",
        "\n",
        "fig = dict( data=data, layout=layout )\n",
        "plot(fig)  \n",
        "\n",
        "\"\"\"\n",
        "mouse.data # print the data to the screen in a nice format\n",
        "\n",
        "## plot a x/y scatter plot with the data\n",
        "plot(mouse.data$weight, mouse.data$size)\n",
        "\n",
        "## create a \"linear model\" - that is, do the regression\n",
        "mouse.regression <- lm(size ~ weight, data=mouse.data)\n",
        "## generate a summary of the regression\n",
        "summary(mouse.regression)\n",
        "\n",
        "## add the regression line to our x/y scatter plot\n",
        "abline(mouse.regression, col=\"blue\")\n",
        "\"\"\""
      ],
      "execution_count": 1,
      "outputs": [
        {
          "output_type": "stream",
          "text": [
            "   weight  sizes\n",
            "0     0.9    1.4\n",
            "1     1.8    2.6\n",
            "2     2.4    1.0\n",
            "3     3.5    3.7\n",
            "4     3.9    5.5\n",
            "5     4.4    3.2\n",
            "6     5.1    3.0\n",
            "7     5.6    4.9\n",
            "8     6.3    6.3\n"
          ],
          "name": "stdout"
        },
        {
          "output_type": "stream",
          "text": [
            "/usr/local/lib/python3.6/dist-packages/scipy/stats/stats.py:1416: UserWarning:\n",
            "\n",
            "kurtosistest only valid for n>=20 ... continuing anyway, n=9\n",
            "\n"
          ],
          "name": "stderr"
        },
        {
          "output_type": "stream",
          "text": [
            "summary()\n",
            "                             OLS Regression Results                            \n",
            "==============================================================================\n",
            "Dep. Variable:                      y   R-squared:                       0.613\n",
            "Model:                            OLS   Adj. R-squared:                  0.558\n",
            "Method:                 Least Squares   F-statistic:                     11.10\n",
            "Date:                Sun, 09 Jun 2019   Prob (F-statistic):             0.0126\n",
            "Time:                        12:32:36   Log-Likelihood:                -13.208\n",
            "No. Observations:                   9   AIC:                             30.42\n",
            "Df Residuals:                       7   BIC:                             30.81\n",
            "Df Model:                           1                                         \n",
            "Covariance Type:            nonrobust                                         \n",
            "==============================================================================\n",
            "                 coef    std err          t      P>|t|      [0.025      0.975]\n",
            "------------------------------------------------------------------------------\n",
            "const          0.5813      0.965      0.603      0.566      -1.700       2.862\n",
            "x1             0.7778      0.233      3.332      0.013       0.226       1.330\n",
            "==============================================================================\n",
            "Omnibus:                        0.025   Durbin-Watson:                   2.111\n",
            "Prob(Omnibus):                  0.988   Jarque-Bera (JB):                0.254\n",
            "Skew:                           0.027   Prob(JB):                        0.881\n",
            "Kurtosis:                       2.178   Cond. No.                         10.5\n",
            "==============================================================================\n",
            "\n",
            "Warnings:\n",
            "[1] Standard Errors assume that the covariance matrix of the errors is correctly specified.\n"
          ],
          "name": "stdout"
        },
        {
          "output_type": "execute_result",
          "data": {
            "text/plain": [
              "'\\nmouse.data # print the data to the screen in a nice format\\n\\n## plot a x/y scatter plot with the data\\nplot(mouse.data$weight, mouse.data$size)\\n\\n## create a \"linear model\" - that is, do the regression\\nmouse.regression <- lm(size ~ weight, data=mouse.data)\\n## generate a summary of the regression\\nsummary(mouse.regression)\\n\\n## add the regression line to our x/y scatter plot\\nabline(mouse.regression, col=\"blue\")\\n'"
            ]
          },
          "metadata": {
            "tags": []
          },
          "execution_count": 1
        }
      ]
    }
  ]
}